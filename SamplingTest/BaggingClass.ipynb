{
 "cells": [
  {
   "cell_type": "code",
   "execution_count": 6,
   "id": "06b931a3-f17a-4534-8576-dbb5d2b96e4d",
   "metadata": {},
   "outputs": [],
   "source": [
    "from sklearn.ensemble import ExtraTreesClassifier\n",
    "from sklearn import datasets\n",
    "from sklearn.model_selection import train_test_split\n",
    "from imblearn.over_sampling import SMOTE,ADASYN \n",
    "from sklearn.tree import DecisionTreeClassifier\n",
    "from sklearn import metrics\n",
    "from sklearn.svm import SVC\n",
    "import pandas as pd\n",
    "from imblearn.under_sampling import RandomUnderSampler\n",
    "from sklearn.ensemble import GradientBoostingRegressor,BaggingClassifier\n",
    "from sklearn.metrics import classification_report, confusion_matrix\n",
    "df = pd.read_csv(\"../heart_disease_health_indicators_BRFSS2015.csv\")"
   ]
  },
  {
   "cell_type": "code",
   "execution_count": 7,
   "id": "cc0a2e7e-d9e7-4d83-a61d-a7855fb2495d",
   "metadata": {},
   "outputs": [],
   "source": [
    "x=df.drop('HeartDiseaseorAttack',axis=1)\n",
    "y = df['HeartDiseaseorAttack']\n",
    "xtrain,x_test,ytrain,y_test = train_test_split(x,y, stratify = y,shuffle = True,random_state = 0)\n"
   ]
  },
  {
   "cell_type": "code",
   "execution_count": null,
   "id": "218f2c18-e0bd-4522-ad7d-13aa35417a15",
   "metadata": {},
   "outputs": [],
   "source": [
    "Bagging = BaggingClassifier(base_estimator=SVC())\n",
    "Bagging.fit(xtrain,ytrain)"
   ]
  },
  {
   "cell_type": "code",
   "execution_count": null,
   "id": "9c52a58f-9dd1-408f-9554-85d4fbe6e437",
   "metadata": {},
   "outputs": [],
   "source": []
  }
 ],
 "metadata": {
  "kernelspec": {
   "display_name": "Python 3 (ipykernel)",
   "language": "python",
   "name": "python3"
  },
  "language_info": {
   "codemirror_mode": {
    "name": "ipython",
    "version": 3
   },
   "file_extension": ".py",
   "mimetype": "text/x-python",
   "name": "python",
   "nbconvert_exporter": "python",
   "pygments_lexer": "ipython3",
   "version": "3.8.12"
  }
 },
 "nbformat": 4,
 "nbformat_minor": 5
}
