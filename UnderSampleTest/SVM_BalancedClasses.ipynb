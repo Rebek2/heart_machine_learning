{
 "cells": [
  {
   "cell_type": "code",
   "execution_count": 2,
   "id": "2f718f64-81c1-4771-a050-b692d95f5de9",
   "metadata": {},
   "outputs": [],
   "source": [
    "from sklearn import datasets\n",
    "from sklearn.model_selection import train_test_split\n",
    "from sklearn.svm import SVC\n",
    "from sklearn import svm\n",
    "from sklearn import metrics\n",
    "import pandas as pd\n",
    "from imblearn.over_sampling import SMOTE \n",
    "from imblearn.under_sampling import RandomUnderSampler\n",
    "from imblearn.over_sampling import ADASYN\n",
    "df = pd.read_csv(\"../heart_disease_health_indicators_BRFSS2015.csv\")"
   ]
  },
  {
   "cell_type": "code",
   "execution_count": 3,
   "id": "ce2594c2-5a74-4b3d-b9a9-eeeb490894e2",
   "metadata": {},
   "outputs": [],
   "source": [
    "x=df.drop('HeartDiseaseorAttack',axis=1)\n",
    "y = df['HeartDiseaseorAttack']"
   ]
  },
  {
   "cell_type": "code",
   "execution_count": 4,
   "id": "39590c0a-c710-47be-9c41-a77ff0da5cb2",
   "metadata": {},
   "outputs": [],
   "source": [
    "sampler = RandomUnderSampler(random_state=0)\n",
    "xs, ys = sampler.fit_resample(x, y)\n",
    "x_train,x_test,y_train,y_test = train_test_split(xs,ys)"
   ]
  },
  {
   "cell_type": "code",
   "execution_count": 5,
   "id": "af371d83-9aa0-4721-9573-e9c4377be1c3",
   "metadata": {},
   "outputs": [
    {
     "data": {
      "text/plain": [
       "SVC(C=3, class_weight='balanced', kernel='poly')"
      ]
     },
     "execution_count": 5,
     "metadata": {},
     "output_type": "execute_result"
    }
   ],
   "source": [
    "svclassifier = SVC(kernel = 'poly',C=3,class_weight = 'balanced')\n",
    "svclassifier.fit(x_train,y_train)"
   ]
  },
  {
   "cell_type": "code",
   "execution_count": 6,
   "id": "5d9b4c9f-05f9-440e-bfcb-f1e4ffc9b786",
   "metadata": {},
   "outputs": [
    {
     "name": "stdout",
     "output_type": "stream",
     "text": [
      "[[4362 1606]\n",
      " [1146 4833]]\n",
      "              precision    recall  f1-score   support\n",
      "\n",
      "         0.0       0.79      0.73      0.76      5968\n",
      "         1.0       0.75      0.81      0.78      5979\n",
      "\n",
      "    accuracy                           0.77     11947\n",
      "   macro avg       0.77      0.77      0.77     11947\n",
      "weighted avg       0.77      0.77      0.77     11947\n",
      "\n"
     ]
    }
   ],
   "source": [
    "y_pred = svclassifier.predict(x_test)\n",
    "from sklearn.metrics import classification_report, confusion_matrix\n",
    "print(confusion_matrix(y_test, y_pred))\n",
    "print(classification_report(y_test, y_pred))"
   ]
  },
  {
   "cell_type": "code",
   "execution_count": 7,
   "id": "b40a72da-bdc5-45d4-9be9-eb8fcd4a0f16",
   "metadata": {},
   "outputs": [
    {
     "name": "stdout",
     "output_type": "stream",
     "text": [
      "[[167552  62235]\n",
      " [  4519  19374]]\n",
      "              precision    recall  f1-score   support\n",
      "\n",
      "         0.0       0.97      0.73      0.83    229787\n",
      "         1.0       0.24      0.81      0.37     23893\n",
      "\n",
      "    accuracy                           0.74    253680\n",
      "   macro avg       0.61      0.77      0.60    253680\n",
      "weighted avg       0.90      0.74      0.79    253680\n",
      "\n"
     ]
    }
   ],
   "source": [
    "X_train,X_test,Y_train,Y_test = train_test_split(x,y,random_state=0)\n",
    "Y_pred=svclassifier.predict(x)\n",
    "from sklearn.metrics import classification_report, confusion_matrix\n",
    "print(confusion_matrix(y, Y_pred))\n",
    "print(classification_report(y, Y_pred))"
   ]
  },
  {
   "cell_type": "code",
   "execution_count": 11,
   "id": "38e87074-f5e2-40cc-9e75-f47ef796f976",
   "metadata": {},
   "outputs": [],
   "source": [
    "sm = SMOTE(random_state=42)\n",
    "xs, ys = sm.fit_resample(x, y)\n",
    "x_train,x_test,y_train,y_test = train_test_split(xs,ys,random_state=0)"
   ]
  },
  {
   "cell_type": "code",
   "execution_count": null,
   "id": "0ce22ec3-cc83-4fc8-9a03-07b9046efd28",
   "metadata": {},
   "outputs": [],
   "source": [
    "svclassifier = SVC(kernel = 'poly',C=3,class_weight = 'balanced')\n",
    "svclassifier.fit(x_train,y_train)\n",
    "y_pred = svclassifier.predict(x_test)\n",
    "from sklearn.metrics import classification_report, confusion_matrix\n",
    "print(confusion_matrix(y_test, y_pred))\n",
    "print(classification_report(y_test, y_pred))"
   ]
  },
  {
   "cell_type": "code",
   "execution_count": null,
   "id": "f80e3db8-9c09-447b-91ba-4289166e978d",
   "metadata": {},
   "outputs": [],
   "source": [
    "X_train,X_test,Y_train,Y_test = train_test_split(x,y,random_state=0,stratify = y)\n",
    "Y_pred=svclassifier.predict(x)\n",
    "from sklearn.metrics import classification_report, confusion_matrix\n",
    "print(confusion_matrix(y, Y_pred))\n",
    "print(classification_report(y, Y_pred))"
   ]
  },
  {
   "cell_type": "code",
   "execution_count": null,
   "id": "62e4ba49-670d-4cbb-83f0-e7d4cbf1c722",
   "metadata": {},
   "outputs": [],
   "source": [
    "adasyn = ADASYN()\n",
    "xs, ys = adasyn.fit_resample(x, y)"
   ]
  },
  {
   "cell_type": "code",
   "execution_count": null,
   "id": "dfcbff7a-9534-4f5f-b53b-257070220e8c",
   "metadata": {},
   "outputs": [],
   "source": [
    "x_train,x_test,y_train,y_test = train_test_split(xs,ys,random_state=0)"
   ]
  },
  {
   "cell_type": "code",
   "execution_count": null,
   "id": "3fef05a5-f87d-4b31-8d45-a28beb7de15a",
   "metadata": {},
   "outputs": [],
   "source": [
    "svclassifier = SVC(kernel = 'poly',C=3,class_weight = 'balanced')\n",
    "svclassifier.fit(x_train,y_train)\n",
    "y_pred = svclassifier.predict(x_test)\n",
    "from sklearn.metrics import classification_report, confusion_matrix\n",
    "print(confusion_matrix(y_test, y_pred))\n",
    "print(classification_report(y_test, y_pred))"
   ]
  },
  {
   "cell_type": "code",
   "execution_count": null,
   "id": "772d2e7d-2a52-4ceb-bc71-817a04da2425",
   "metadata": {},
   "outputs": [],
   "source": [
    "X_train,X_test,Y_train,Y_test = train_test_split(x,y,random_state=0,stratify = y)\n",
    "Y_pred=svclassifier.predict(x)\n",
    "from sklearn.metrics import classification_report, confusion_matrix\n",
    "print(confusion_matrix(y, Y_pred))\n",
    "print(classification_report(y, Y_pred))"
   ]
  },
  {
   "cell_type": "code",
   "execution_count": null,
   "id": "d9467ee9-a73e-43f5-ab83-bf75c2f9077a",
   "metadata": {},
   "outputs": [],
   "source": []
  }
 ],
 "metadata": {
  "kernelspec": {
   "display_name": "Python 3 (ipykernel)",
   "language": "python",
   "name": "python3"
  },
  "language_info": {
   "codemirror_mode": {
    "name": "ipython",
    "version": 3
   },
   "file_extension": ".py",
   "mimetype": "text/x-python",
   "name": "python",
   "nbconvert_exporter": "python",
   "pygments_lexer": "ipython3",
   "version": "3.8.12"
  }
 },
 "nbformat": 4,
 "nbformat_minor": 5
}
