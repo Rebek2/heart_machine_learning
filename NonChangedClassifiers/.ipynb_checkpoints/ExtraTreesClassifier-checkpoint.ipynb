{
 "cells": [
  {
   "cell_type": "code",
   "execution_count": 6,
   "id": "44044742-052e-40ec-940e-80b7a1877818",
   "metadata": {},
   "outputs": [],
   "source": [
    "from sklearn.ensemble import ExtraTreesClassifier\n",
    "from sklearn import datasets\n",
    "from sklearn.model_selection import train_test_split\n",
    "from imblearn.over_sampling import SMOTE \n",
    "from sklearn.tree import DecisionTreeClassifier\n",
    "from sklearn import metrics\n",
    "import pandas as pd\n",
    "from imblearn.under_sampling import RandomUnderSampler,OneSidedSelection \n",
    "from imblearn.over_sampling import ADASYN\n",
    "from sklearn.ensemble import GradientBoostingRegressor\n",
    "from sklearn.metrics import classification_report, confusion_matrix\n",
    "df = pd.read_csv(\"../heart_disease_health_indicators_BRFSS2015.csv\")"
   ]
  },
  {
   "cell_type": "code",
   "execution_count": 7,
   "id": "78d18a55-dae4-4e19-a2e6-04e6741bca9b",
   "metadata": {},
   "outputs": [],
   "source": [
    "x=df.drop('HeartDiseaseorAttack',axis=1)\n",
    "y = df['HeartDiseaseorAttack']\n",
    "xtrain,x_test,ytrain,y_test = train_test_split(x,y, stratify = y,shuffle = True,random_state = 0)\n"
   ]
  },
  {
   "cell_type": "code",
   "execution_count": 8,
   "id": "549d22c1-9a52-4191-9e86-36561a9d9ce4",
   "metadata": {},
   "outputs": [
    {
     "data": {
      "text/plain": [
       "ExtraTreesClassifier(class_weight='balanced', max_depth=10)"
      ]
     },
     "execution_count": 8,
     "metadata": {},
     "output_type": "execute_result"
    }
   ],
   "source": [
    "\n",
    "Extra_Tree_classifier = ExtraTreesClassifier(class_weight = 'balanced',max_depth = 10)\n",
    "Extra_Tree_classifier.fit(xtrain,ytrain)"
   ]
  },
  {
   "cell_type": "code",
   "execution_count": 9,
   "id": "d6449cf4-4488-4c98-86d8-2bf8c4a3d896",
   "metadata": {},
   "outputs": [],
   "source": [
    "y_pred = Extra_Tree_classifier.predict(x_test)"
   ]
  },
  {
   "cell_type": "code",
   "execution_count": 10,
   "id": "899a3bc1-d310-438f-8557-8a3010af2829",
   "metadata": {},
   "outputs": [
    {
     "name": "stdout",
     "output_type": "stream",
     "text": [
      "[[41971 15476]\n",
      " [ 1157  4816]]\n",
      "              precision    recall  f1-score   support\n",
      "\n",
      "         0.0       0.97      0.73      0.83     57447\n",
      "         1.0       0.24      0.81      0.37      5973\n",
      "\n",
      "    accuracy                           0.74     63420\n",
      "   macro avg       0.61      0.77      0.60     63420\n",
      "weighted avg       0.90      0.74      0.79     63420\n",
      "\n"
     ]
    }
   ],
   "source": [
    "print(confusion_matrix(y_test, y_pred))\n",
    "print(classification_report(y_test, y_pred))"
   ]
  },
  {
   "cell_type": "code",
   "execution_count": null,
   "id": "d9a27d2c-6c4c-4592-a6b6-95dc30ec2a98",
   "metadata": {},
   "outputs": [],
   "source": [
    "#over sampling adasyn"
   ]
  },
  {
   "cell_type": "code",
   "execution_count": 12,
   "id": "ff3071d5-f8fa-49cc-9e00-cbbfe559a2a5",
   "metadata": {},
   "outputs": [],
   "source": [
    "adasyn = ADASYN()\n",
    "xtrain,x_test,ytrain,y_test = train_test_split(x,y,random_state=0,shuffle = True,stratify = y)\n",
    "x_train, y_train = adasyn.fit_resample(xtrain, ytrain)"
   ]
  },
  {
   "cell_type": "code",
   "execution_count": 15,
   "id": "b45c5586-fa91-460d-93d4-e2a0d3ea411f",
   "metadata": {},
   "outputs": [
    {
     "data": {
      "text/plain": [
       "ExtraTreesClassifier(class_weight='balanced', max_depth=10, random_state=0)"
      ]
     },
     "execution_count": 15,
     "metadata": {},
     "output_type": "execute_result"
    }
   ],
   "source": [
    "Extra_Tree_classifier = ExtraTreesClassifier(class_weight = 'balanced',max_depth = 10,random_state = 0)\n",
    "Extra_Tree_classifier.fit(x_train,y_train)"
   ]
  },
  {
   "cell_type": "code",
   "execution_count": 16,
   "id": "6f4c62ff-b099-4a14-ad89-8cf43f91e037",
   "metadata": {},
   "outputs": [
    {
     "name": "stdout",
     "output_type": "stream",
     "text": [
      "[[41971 15476]\n",
      " [ 1157  4816]]\n",
      "              precision    recall  f1-score   support\n",
      "\n",
      "         0.0       0.97      0.73      0.83     57447\n",
      "         1.0       0.24      0.81      0.37      5973\n",
      "\n",
      "    accuracy                           0.74     63420\n",
      "   macro avg       0.61      0.77      0.60     63420\n",
      "weighted avg       0.90      0.74      0.79     63420\n",
      "\n"
     ]
    }
   ],
   "source": [
    "print(confusion_matrix(y_test, y_pred))\n",
    "print(classification_report(y_test, y_pred))"
   ]
  },
  {
   "cell_type": "code",
   "execution_count": 17,
   "id": "d0c552e4-3f6a-4380-9105-7ca9b95d4be1",
   "metadata": {},
   "outputs": [],
   "source": [
    "#over sampling smote"
   ]
  },
  {
   "cell_type": "code",
   "execution_count": 20,
   "id": "ecf83a91-a949-4bb6-a5dc-91a525cb6ca3",
   "metadata": {},
   "outputs": [],
   "source": [
    "sm = SMOTE(random_state=42)\n",
    "xtrain,x_test,ytrain,y_test = train_test_split(x,y,random_state=0,stratify =y,shuffle = True)\n",
    "x_train, y_train = sm.fit_resample(xtrain, ytrain)"
   ]
  },
  {
   "cell_type": "code",
   "execution_count": 21,
   "id": "31a0e74b-7da5-4d0b-941f-fca2c0ce5696",
   "metadata": {},
   "outputs": [
    {
     "name": "stdout",
     "output_type": "stream",
     "text": [
      "[[41971 15476]\n",
      " [ 1157  4816]]\n",
      "              precision    recall  f1-score   support\n",
      "\n",
      "         0.0       0.97      0.73      0.83     57447\n",
      "         1.0       0.24      0.81      0.37      5973\n",
      "\n",
      "    accuracy                           0.74     63420\n",
      "   macro avg       0.61      0.77      0.60     63420\n",
      "weighted avg       0.90      0.74      0.79     63420\n",
      "\n"
     ]
    }
   ],
   "source": [
    "Extra_Tree_classifier = ExtraTreesClassifier(class_weight = 'balanced',max_depth = 10,random_state = 0)\n",
    "Extra_Tree_classifier.fit(x_train,y_train)\n",
    "print(confusion_matrix(y_test, y_pred))\n",
    "print(classification_report(y_test, y_pred))"
   ]
  },
  {
   "cell_type": "code",
   "execution_count": null,
   "id": "14418652-10ad-4281-9d5f-f2b7ebf576bf",
   "metadata": {},
   "outputs": [],
   "source": []
  }
 ],
 "metadata": {
  "kernelspec": {
   "display_name": "Python 3 (ipykernel)",
   "language": "python",
   "name": "python3"
  },
  "language_info": {
   "codemirror_mode": {
    "name": "ipython",
    "version": 3
   },
   "file_extension": ".py",
   "mimetype": "text/x-python",
   "name": "python",
   "nbconvert_exporter": "python",
   "pygments_lexer": "ipython3",
   "version": "3.8.12"
  }
 },
 "nbformat": 4,
 "nbformat_minor": 5
}
