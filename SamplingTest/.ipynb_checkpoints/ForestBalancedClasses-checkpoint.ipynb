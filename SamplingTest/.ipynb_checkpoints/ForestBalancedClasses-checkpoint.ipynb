{
 "cells": [
  {
   "cell_type": "code",
   "execution_count": 13,
   "id": "478d075d-b2ae-4a2d-a924-2bcac94537e9",
   "metadata": {},
   "outputs": [],
   "source": [
    "from sklearn import datasets\n",
    "from sklearn.model_selection import train_test_split\n",
    "from imblearn.over_sampling import SMOTE \n",
    "from sklearn.ensemble import RandomForestClassifier\n",
    "from sklearn import metrics\n",
    "import pandas as pd\n",
    "from imblearn.under_sampling import RandomUnderSampler\n",
    "from imblearn.over_sampling import ADASYN\n",
    "from sklearn.metrics import classification_report, confusion_matrix\n",
    "df = pd.read_csv(\"../heart_disease_health_indicators_BRFSS2015.csv\")"
   ]
  },
  {
   "cell_type": "code",
   "execution_count": 14,
   "id": "7a39019b-7967-4f23-981b-0fee39444371",
   "metadata": {},
   "outputs": [],
   "source": [
    "x=df.drop('HeartDiseaseorAttack',axis=1)\n",
    "y = df['HeartDiseaseorAttack'] # under"
   ]
  },
  {
   "cell_type": "code",
   "execution_count": 15,
   "id": "40e41ec5-1b56-491a-8f65-a6971cb95300",
   "metadata": {},
   "outputs": [],
   "source": [
    "xtrain,x_test,ytrain,y_test = train_test_split(x,y,random_state = 0,stratify = y)\n",
    "sampler = RandomUnderSampler(random_state=11)#sprawdzic jak dokladnie dziala\n",
    "x_train, y_train = sampler.fit_resample(xtrain, ytrain)#smote,adasyn,2:1"
   ]
  },
  {
   "cell_type": "code",
   "execution_count": 16,
   "id": "5611e593-b388-4389-9a90-5e5365e33c41",
   "metadata": {},
   "outputs": [
    {
     "data": {
      "text/plain": [
       "RandomForestClassifier(class_weight='balanced', max_depth=10,\n",
       "                       min_samples_leaf=15, random_state=0)"
      ]
     },
     "execution_count": 16,
     "metadata": {},
     "output_type": "execute_result"
    }
   ],
   "source": [
    "Tree_classifier = RandomForestClassifier(max_depth = 10,class_weight='balanced',random_state=0,)\n",
    "Tree_classifier.fit(x_train,y_train)"
   ]
  },
  {
   "cell_type": "code",
   "execution_count": 17,
   "id": "240ad887-a680-41d1-afaa-030d0ae45dd9",
   "metadata": {},
   "outputs": [
    {
     "name": "stdout",
     "output_type": "stream",
     "text": [
      "[[40848 16599]\n",
      " [ 1017  4956]]\n",
      "              precision    recall  f1-score   support\n",
      "\n",
      "         0.0       0.98      0.71      0.82     57447\n",
      "         1.0       0.23      0.83      0.36      5973\n",
      "\n",
      "    accuracy                           0.72     63420\n",
      "   macro avg       0.60      0.77      0.59     63420\n",
      "weighted avg       0.91      0.72      0.78     63420\n",
      "\n"
     ]
    }
   ],
   "source": [
    "y_pred = Tree_classifier.predict(x_test)\n",
    "print(confusion_matrix(y_test, y_pred))\n",
    "print(classification_report(y_test, y_pred))"
   ]
  },
  {
   "cell_type": "code",
   "execution_count": 18,
   "id": "644909bb-8416-40c8-976b-9c124712f172",
   "metadata": {},
   "outputs": [],
   "source": [
    "sm = SMOTE(random_state=42)"
   ]
  },
  {
   "cell_type": "code",
   "execution_count": 19,
   "id": "a56b8120-14b8-4aa0-b3b2-251fb79ed828",
   "metadata": {},
   "outputs": [],
   "source": [
    "xtrain,x_test,ytrain,y_test = train_test_split(x,y,random_state = 0,stratify = y)\n",
    "\n",
    "x_train, y_train = sm.fit_resample(xtrain, ytrain)#smote,adasyn,2:1\n"
   ]
  },
  {
   "cell_type": "code",
   "execution_count": null,
   "id": "d446c6e8-5768-48da-a47b-f24bc8ae2dfb",
   "metadata": {},
   "outputs": [],
   "source": [
    "Tree_classifier = RandomForestClassifier(max_depth = 10,class_weight='balanced',random_state=0,)\n",
    "Tree_classifier.fit(x_train,y_train)\n",
    "y_pred = Tree_classifier.predict(x_test)\n",
    "print(confusion_matrix(y_test, y_pred))\n",
    "print(classification_report(y_test, y_pred))"
   ]
  },
  {
   "cell_type": "code",
   "execution_count": 21,
   "id": "e826a13e-07e6-4a6b-add2-b4414b0ec7f5",
   "metadata": {},
   "outputs": [],
   "source": [
    "adasyn = ADASYN()\n"
   ]
  },
  {
   "cell_type": "code",
   "execution_count": null,
   "id": "6ac49fd2-a2a5-46e7-8125-490cf9645e0d",
   "metadata": {},
   "outputs": [],
   "source": [
    "xtrain,x_test,ytrain,y_test = train_test_split(x,y,random_state = 0,stratify = y)\n",
    "\n",
    "x_train, y_train = adasyn.fit_resample(xtrain, ytrain)#smote,adasyn,2:1\n"
   ]
  },
  {
   "cell_type": "code",
   "execution_count": null,
   "id": "1e55e73f-0fa0-4329-a20f-fc23f7e36560",
   "metadata": {},
   "outputs": [],
   "source": [
    "Tree_classifier = RandomForestClassifier(max_depth = 10,class_weight='balanced',random_state=0,)\n",
    "Tree_classifier.fit(x_train,y_train)\n",
    "y_pred = Tree_classifier.predict(x_test)\n",
    "from sklearn.metrics import classification_report, confusion_matrix\n",
    "print(confusion_matrix(y_test, y_pred))\n",
    "print(classification_report(y_test, y_pred))"
   ]
  },
  {
   "cell_type": "code",
   "execution_count": null,
   "id": "847723d1-8476-40ca-bd9e-7f4e668d8c3e",
   "metadata": {},
   "outputs": [],
   "source": []
  }
 ],
 "metadata": {
  "kernelspec": {
   "display_name": "Python 3 (ipykernel)",
   "language": "python",
   "name": "python3"
  },
  "language_info": {
   "codemirror_mode": {
    "name": "ipython",
    "version": 3
   },
   "file_extension": ".py",
   "mimetype": "text/x-python",
   "name": "python",
   "nbconvert_exporter": "python",
   "pygments_lexer": "ipython3",
   "version": "3.8.12"
  }
 },
 "nbformat": 4,
 "nbformat_minor": 5
}
