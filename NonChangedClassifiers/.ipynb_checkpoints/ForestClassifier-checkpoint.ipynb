{
 "cells": [
  {
   "cell_type": "code",
   "execution_count": 1,
   "id": "c5d18a6d-05bf-4a97-84ba-5aa47363e8b4",
   "metadata": {},
   "outputs": [],
   "source": [
    "from sklearn.ensemble import RandomForestClassifier\n",
    "from sklearn.model_selection import train_test_split\n",
    "from sklearn.svm import SVC\n",
    "from sklearn.tree import DecisionTreeClassifier\n",
    "from sklearn import metrics\n",
    "import pandas as pd\n",
    "import numpy as np\n",
    "from imblearn.under_sampling import RandomUnderSampler\n",
    "df = pd.read_csv(\"heart_disease_health_indicators_BRFSS2015.csv\")"
   ]
  },
  {
   "cell_type": "code",
   "execution_count": 4,
   "id": "3b79940e-250c-42f1-b0fe-6b4f6f003440",
   "metadata": {},
   "outputs": [],
   "source": [
    "x=df.drop('HeartDiseaseorAttack',axis=1)\n",
    "y = df['HeartDiseaseorAttack']\n",
    "#dzieli chorych i zdrowych na 0.5 i 0.5\n",
    "sampler = RandomUnderSampler(random_state=11)\n",
    "xs, ys = sampler.fit_resample(x, y)"
   ]
  },
  {
   "cell_type": "code",
   "execution_count": 6,
   "id": "ca9ca2a0-9bab-4577-8d9a-9d82fc1ddcf3",
   "metadata": {},
   "outputs": [],
   "source": [
    "x_train,x_test,y_train,y_test = train_test_split(xs,ys)#parametr dla zachowania proporcji"
   ]
  },
  {
   "cell_type": "code",
   "execution_count": 11,
   "id": "ff9fb244-1b09-48f0-bad0-256442c9632d",
   "metadata": {},
   "outputs": [],
   "source": [
    "\n",
    "\n",
    "Forest_classifier = RandomForestClassifier()\n",
    "#rozne modele przetestowac w petli naa domyslnych parametrach\n",
    "#poszukac sklearn i puscic jakie sie da modele/clasyfikatory nadzorowane i wyliczac sensitivity\n",
    "#waznosc i ranking cech\n",
    "#model selection i feature selection"
   ]
  },
  {
   "cell_type": "code",
   "execution_count": 12,
   "id": "ee9e918a-a912-43e2-8d8b-1e770c339250",
   "metadata": {},
   "outputs": [
    {
     "data": {
      "text/plain": [
       "RandomForestClassifier()"
      ]
     },
     "execution_count": 12,
     "metadata": {},
     "output_type": "execute_result"
    }
   ],
   "source": [
    "Forest_classifier.fit(x_train,y_train)"
   ]
  },
  {
   "cell_type": "code",
   "execution_count": 13,
   "id": "29a16f86-cc20-4eeb-a769-eb25ef6b6cea",
   "metadata": {},
   "outputs": [
    {
     "name": "stdout",
     "output_type": "stream",
     "text": [
      "              precision    recall  f1-score   support\n",
      "\n",
      "         0.0       0.79      0.71      0.75      6017\n",
      "         1.0       0.74      0.81      0.77      5930\n",
      "\n",
      "    accuracy                           0.76     11947\n",
      "   macro avg       0.76      0.76      0.76     11947\n",
      "weighted avg       0.76      0.76      0.76     11947\n",
      "\n"
     ]
    }
   ],
   "source": [
    "y_pred = Forest_classifier.predict(x_test)\n",
    "from sklearn.metrics import classification_report, confusion_matrix\n",
    "cm = confusion_matrix(y_test, y_pred)\n",
    "print(classification_report(y_test, y_pred))"
   ]
  },
  {
   "cell_type": "code",
   "execution_count": 14,
   "id": "71ead97c-f188-4a6c-8421-d1c81a7b6f0d",
   "metadata": {},
   "outputs": [],
   "source": [
    "from sklearn.metrics import confusion_matrix, ConfusionMatrixDisplay"
   ]
  },
  {
   "cell_type": "code",
   "execution_count": 15,
   "id": "1b1c19a9-9a91-402d-9bcd-3b28819d80c5",
   "metadata": {},
   "outputs": [
    {
     "data": {
      "text/plain": [
       "<sklearn.metrics._plot.confusion_matrix.ConfusionMatrixDisplay at 0x7fa22027bf40>"
      ]
     },
     "execution_count": 15,
     "metadata": {},
     "output_type": "execute_result"
    },
    {
     "data": {
      "image/png": "[encoded data removed]",
      "text/plain": [
       "<Figure size 432x288 with 2 Axes>"
      ]
     },
     "metadata": {
      "needs_background": "light"
     },
     "output_type": "display_data"
    }
   ],
   "source": [
    "disp = ConfusionMatrixDisplay(confusion_matrix=cm,\n",
    "                           display_labels=Forest_classifier.classes_)\n",
    "disp.plot()"
   ]
  },
  {
   "cell_type": "code",
   "execution_count": null,
   "id": "5489160c-4506-4651-a437-17472b6febb4",
   "metadata": {},
   "outputs": [],
   "source": []
  },
  {
   "cell_type": "code",
   "execution_count": 23,
   "id": "a4f77dfd-792d-4353-aa41-6822340288d9",
   "metadata": {},
   "outputs": [],
   "source": [
    "X_train,X_test,Y_train,Y_test = train_test_split(x,y,random_state=0)"
   ]
  },
  {
   "cell_type": "code",
   "execution_count": 26,
   "id": "4ed222fe-a70f-4d08-9918-92f23e539397",
   "metadata": {},
   "outputs": [
    {
     "name": "stdout",
     "output_type": "stream",
     "text": [
      "[[42192 15203]\n",
      " [  302  5723]]\n",
      "              precision    recall  f1-score   support\n",
      "\n",
      "         0.0       0.99      0.74      0.84     57395\n",
      "         1.0       0.27      0.95      0.42      6025\n",
      "\n",
      "    accuracy                           0.76     63420\n",
      "   macro avg       0.63      0.84      0.63     63420\n",
      "weighted avg       0.92      0.76      0.80     63420\n",
      "\n"
     ]
    }
   ],
   "source": [
    "Y_pred = Forest_classifier.predict(X_test)\n",
    "from sklearn.metrics import classification_report, confusion_matrix\n",
    "print(confusion_matrix(Y_test, Y_pred))\n",
    "print(classification_report(Y_test, Y_pred))"
   ]
  },
  {
   "cell_type": "code",
   "execution_count": null,
   "id": "a5475e1b-cab1-41fa-8f1c-8456b53e0404",
   "metadata": {},
   "outputs": [],
   "source": []
  }
 ],
 "metadata": {
  "kernelspec": {
   "display_name": "Python 3 (ipykernel)",
   "language": "python",
   "name": "python3"
  },
  "language_info": {
   "codemirror_mode": {
    "name": "ipython",
    "version": 3
   },
   "file_extension": ".py",
   "mimetype": "text/x-python",
   "name": "python",
   "nbconvert_exporter": "python",
   "pygments_lexer": "ipython3",
   "version": "3.8.12"
  }
 },
 "nbformat": 4,
 "nbformat_minor": 5
}
