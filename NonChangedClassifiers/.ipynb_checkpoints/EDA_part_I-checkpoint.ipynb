{
 "cells": [
  {
   "cell_type": "code",
   "execution_count": 2,
   "id": "a7ab1ac4-91ec-4804-8a11-d619cd88dd9f",
   "metadata": {},
   "outputs": [],
   "source": [
    "import csv\n",
    "import numpy as np\n",
    "import matplotlib.pyplot as plt \n",
    "rows = []\n",
    "with open(\"heart_disease_health_indicators_BRFSS2015.csv\", 'r') as file:\n",
    "    csvreader = csv.reader(file)\n",
    "    header = next(csvreader)\n",
    "    for row in csvreader:\n",
    "        rows.append(row)"
   ]
  },
  {
   "cell_type": "code",
   "execution_count": 3,
   "id": "83b3ccd3-221c-4f85-8232-8a2b964f5d8e",
   "metadata": {},
   "outputs": [
    {
     "data": {
      "text/plain": [
       "['HeartDiseaseorAttack',\n",
       " 'HighBP',\n",
       " 'HighChol',\n",
       " 'CholCheck',\n",
       " 'BMI',\n",
       " 'Smoker',\n",
       " 'Stroke',\n",
       " 'Diabetes',\n",
       " 'PhysActivity',\n",
       " 'Fruits',\n",
       " 'Veggies',\n",
       " 'HvyAlcoholConsump',\n",
       " 'AnyHealthcare',\n",
       " 'NoDocbcCost',\n",
       " 'GenHlth',\n",
       " 'MentHlth',\n",
       " 'PhysHlth',\n",
       " 'DiffWalk',\n",
       " 'Sex',\n",
       " 'Age',\n",
       " 'Education',\n",
       " 'Income']"
      ]
     },
     "execution_count": 3,
     "metadata": {},
     "output_type": "execute_result"
    }
   ],
   "source": [
    "header"
   ]
  },
  {
   "cell_type": "code",
   "execution_count": 4,
   "id": "64943fb9-224b-402a-8710-37c824b6a479",
   "metadata": {},
   "outputs": [
    {
     "data": {
      "text/plain": [
       "54279"
      ]
     },
     "execution_count": 4,
     "metadata": {},
     "output_type": "execute_result"
    }
   ],
   "source": [
    "highBPsmoke = 0\n",
    "\n",
    "for row in rows:\n",
    "    if row[1] == '1.0' and row[5] == '1.0':\n",
    "        highBPsmoke = highBPsmoke + 1       \n",
    "          \n",
    "highBPsmoke"
   ]
  },
  {
   "cell_type": "code",
   "execution_count": 5,
   "id": "29401104-cdb3-4747-b25a-571c9b5fa3c5",
   "metadata": {},
   "outputs": [
    {
     "data": {
      "text/plain": [
       "108829"
      ]
     },
     "execution_count": 5,
     "metadata": {},
     "output_type": "execute_result"
    }
   ],
   "source": [
    "highBP = 0\n",
    "for row in rows:\n",
    "    if row[1] == '1.0':\n",
    "        highBP = highBP + 1\n",
    "        \n",
    "highBP"
   ]
  },
  {
   "cell_type": "code",
   "execution_count": 6,
   "id": "c0f26394-8daa-4117-9067-c99b0e7be3fe",
   "metadata": {},
   "outputs": [],
   "source": [
    "\n",
    "bmi = 0\n",
    "for row in rows:\n",
    "    if row[1] == '1.0':\n",
    "        if float(row[4]) > 25:\n",
    "            bmi = bmi + 1\n",
    "        \n",
    "\n",
    "activity = 0\n",
    "for row in rows:\n",
    "    if row[1] == '1.0' and row[8]=='1.0':\n",
    "\n",
    "            activity = activity + 1\n",
    "\n",
    "examined = 253680\n",
    "        \n"
   ]
  },
  {
   "cell_type": "code",
   "execution_count": 7,
   "id": "b7906cbb-b7c6-4c84-aa2c-e911164bc743",
   "metadata": {},
   "outputs": [
    {
     "data": {
      "image/png": "[encoded data removed]",
      "text/plain": [
       "<Figure size 1080x720 with 1 Axes>"
      ]
     },
     "metadata": {
      "needs_background": "light"
     },
     "output_type": "display_data"
    }
   ],
   "source": [
    "height = [examined,highBP,highBPsmoke,bmi,activity]\n",
    "bars = ['Ilosc wszystkich osob','Ilosc osob z wysokim BP','Ilosc osob\\n palacych z wysokim BP ','Ilosc osob z \\nwysokim BP \\nprzy BMI>25','Ilosc osob\\n z wysokim BP\\n aktywnych fizycznie']\n",
    "y_pos = np.arange(len(height))\n",
    "plt.figure(figsize=(15,10))\n",
    " \n",
    "\n",
    "plt.bar(y_pos, height, color = '#E4FFF9')\n",
    "  \n",
    "\n",
    "plt.xticks(y_pos, bars)\n",
    " \n",
    "plt.xlabel('Typ', fontsize=25, color='#323232')\n",
    "plt.ylabel('Ilosc osob', fontsize=25, color='#323232')\n",
    "plt.title('Ilosc osob z wyosokim pulsem w zaleznosci od okolicznosci', fontsize=16, color='#323232')\n",
    " \n",
    "\n",
    "# Show graphic\n",
    "plt.show();"
   ]
  },
  {
   "cell_type": "code",
   "execution_count": 8,
   "id": "0aceda96-d6c6-48ef-9b62-9e61613dcccd",
   "metadata": {},
   "outputs": [
    {
     "ename": "SyntaxError",
     "evalue": "invalid syntax (3662120517.py, line 1)",
     "output_type": "error",
     "traceback": [
      "\u001b[0;36m  Input \u001b[0;32mIn [8]\u001b[0;36m\u001b[0m\n\u001b[0;31m    medianaBmi = median(row[,:4])\u001b[0m\n\u001b[0m                            ^\u001b[0m\n\u001b[0;31mSyntaxError\u001b[0m\u001b[0;31m:\u001b[0m invalid syntax\n"
     ]
    }
   ],
   "source": [
    "medianaBmi = median(row[:,4])"
   ]
  },
  {
   "cell_type": "code",
   "execution_count": null,
   "id": "fad2c973-1f3b-4440-84e3-a815dec42c92",
   "metadata": {},
   "outputs": [],
   "source": []
  }
 ],
 "metadata": {
  "kernelspec": {
   "display_name": "Python 3 (ipykernel)",
   "language": "python",
   "name": "python3"
  },
  "language_info": {
   "codemirror_mode": {
    "name": "ipython",
    "version": 3
   },
   "file_extension": ".py",
   "mimetype": "text/x-python",
   "name": "python",
   "nbconvert_exporter": "python",
   "pygments_lexer": "ipython3",
   "version": "3.8.12"
  }
 },
 "nbformat": 4,
 "nbformat_minor": 5
}
