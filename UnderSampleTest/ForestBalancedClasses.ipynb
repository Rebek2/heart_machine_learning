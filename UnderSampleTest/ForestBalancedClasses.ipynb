{
 "cells": [
  {
   "cell_type": "code",
   "execution_count": 1,
   "id": "478d075d-b2ae-4a2d-a924-2bcac94537e9",
   "metadata": {},
   "outputs": [],
   "source": [
    "from sklearn import datasets\n",
    "from sklearn.model_selection import train_test_split\n",
    "from imblearn.over_sampling import SMOTE \n",
    "from sklearn.ensemble import RandomForestClassifier\n",
    "from sklearn import metrics\n",
    "import pandas as pd\n",
    "from imblearn.under_sampling import RandomUnderSampler\n",
    "from imblearn.over_sampling import ADASYN\n",
    "df = pd.read_csv(\"../heart_disease_health_indicators_BRFSS2015.csv\")"
   ]
  },
  {
   "cell_type": "code",
   "execution_count": 2,
   "id": "7a39019b-7967-4f23-981b-0fee39444371",
   "metadata": {},
   "outputs": [],
   "source": [
    "x=df.drop('HeartDiseaseorAttack',axis=1)\n",
    "y = df['HeartDiseaseorAttack'] # under"
   ]
  },
  {
   "cell_type": "code",
   "execution_count": 3,
   "id": "40e41ec5-1b56-491a-8f65-a6971cb95300",
   "metadata": {},
   "outputs": [],
   "source": [
    "sampler = RandomUnderSampler(random_state=11)#sprawdzic jak dokladnie dziala\n",
    "xs, ys = sampler.fit_resample(x, y)#smote,adasyn,2:1"
   ]
  },
  {
   "cell_type": "code",
   "execution_count": 4,
   "id": "5611e593-b388-4389-9a90-5e5365e33c41",
   "metadata": {},
   "outputs": [
    {
     "data": {
      "text/plain": [
       "RandomForestClassifier(class_weight={0: 1.5, 1: 1.2}, max_depth=7,\n",
       "                       min_samples_leaf=15, random_state=0)"
      ]
     },
     "execution_count": 4,
     "metadata": {},
     "output_type": "execute_result"
    }
   ],
   "source": [
    "x_train,x_test,y_train,y_test = train_test_split(xs,ys)\n",
    "Tree_classifier = RandomForestClassifier(max_depth = 10,min_samples_leaf=15,class_weight={ 0:1.5, 1:1.2 },random_state=0,)\n",
    "Tree_classifier.fit(x_train,y_train)"
   ]
  },
  {
   "cell_type": "code",
   "execution_count": 5,
   "id": "240ad887-a680-41d1-afaa-030d0ae45dd9",
   "metadata": {},
   "outputs": [
    {
     "name": "stdout",
     "output_type": "stream",
     "text": [
      "[[4598 1378]\n",
      " [1500 4471]]\n",
      "              precision    recall  f1-score   support\n",
      "\n",
      "         0.0       0.75      0.77      0.76      5976\n",
      "         1.0       0.76      0.75      0.76      5971\n",
      "\n",
      "    accuracy                           0.76     11947\n",
      "   macro avg       0.76      0.76      0.76     11947\n",
      "weighted avg       0.76      0.76      0.76     11947\n",
      "\n"
     ]
    }
   ],
   "source": [
    "y_pred = Tree_classifier.predict(x_test)\n",
    "from sklearn.metrics import classification_report, confusion_matrix\n",
    "print(confusion_matrix(y_test, y_pred))\n",
    "print(classification_report(y_test, y_pred))"
   ]
  },
  {
   "cell_type": "code",
   "execution_count": 6,
   "id": "e6d72a7b-d2d8-4ada-ac94-77d293c3cbab",
   "metadata": {},
   "outputs": [
    {
     "name": "stdout",
     "output_type": "stream",
     "text": [
      "[[176653  53134]\n",
      " [  5679  18214]]\n",
      "              precision    recall  f1-score   support\n",
      "\n",
      "         0.0       0.97      0.77      0.86    229787\n",
      "         1.0       0.26      0.76      0.38     23893\n",
      "\n",
      "    accuracy                           0.77    253680\n",
      "   macro avg       0.61      0.77      0.62    253680\n",
      "weighted avg       0.90      0.77      0.81    253680\n",
      "\n"
     ]
    }
   ],
   "source": [
    "X_train,X_test,Y_train,Y_test = train_test_split(x,y,random_state=0)\n",
    "Y_pred=Tree_classifier.predict(x)\n",
    "from sklearn.metrics import classification_report, confusion_matrix\n",
    "print(confusion_matrix(y, Y_pred))\n",
    "print(classification_report(y, Y_pred))"
   ]
  },
  {
   "cell_type": "code",
   "execution_count": 7,
   "id": "644909bb-8416-40c8-976b-9c124712f172",
   "metadata": {},
   "outputs": [],
   "source": [
    "sm = SMOTE(random_state=42)"
   ]
  },
  {
   "cell_type": "code",
   "execution_count": 8,
   "id": "a56b8120-14b8-4aa0-b3b2-251fb79ed828",
   "metadata": {},
   "outputs": [],
   "source": [
    "xs, ys = sm.fit_resample(x, y)\n",
    "x_train,x_test,y_train,y_test = train_test_split(xs,ys,random_state=0)"
   ]
  },
  {
   "cell_type": "code",
   "execution_count": 9,
   "id": "d446c6e8-5768-48da-a47b-f24bc8ae2dfb",
   "metadata": {},
   "outputs": [
    {
     "name": "stdout",
     "output_type": "stream",
     "text": [
      "[[45507 11899]\n",
      " [ 3617 53871]]\n",
      "              precision    recall  f1-score   support\n",
      "\n",
      "         0.0       0.93      0.79      0.85     57406\n",
      "         1.0       0.82      0.94      0.87     57488\n",
      "\n",
      "    accuracy                           0.86    114894\n",
      "   macro avg       0.87      0.86      0.86    114894\n",
      "weighted avg       0.87      0.86      0.86    114894\n",
      "\n"
     ]
    }
   ],
   "source": [
    "Tree_classifier = RandomForestClassifier(max_depth = 7,min_samples_leaf=15,class_weight={ 0:1.3, 1:2 },random_state=0,)\n",
    "Tree_classifier.fit(x_train,y_train)\n",
    "y_pred = Tree_classifier.predict(x_test)\n",
    "from sklearn.metrics import classification_report, confusion_matrix\n",
    "print(confusion_matrix(y_test, y_pred))\n",
    "print(classification_report(y_test, y_pred))"
   ]
  },
  {
   "cell_type": "code",
   "execution_count": 10,
   "id": "34d162a5-1614-46de-a8f9-8d5459006c07",
   "metadata": {},
   "outputs": [
    {
     "name": "stdout",
     "output_type": "stream",
     "text": [
      "[[181666  48121]\n",
      " [  6985  16908]]\n",
      "              precision    recall  f1-score   support\n",
      "\n",
      "         0.0       0.96      0.79      0.87    229787\n",
      "         1.0       0.26      0.71      0.38     23893\n",
      "\n",
      "    accuracy                           0.78    253680\n",
      "   macro avg       0.61      0.75      0.62    253680\n",
      "weighted avg       0.90      0.78      0.82    253680\n",
      "\n"
     ]
    }
   ],
   "source": [
    "X_train,X_test,Y_train,Y_test = train_test_split(x,y,random_state=0,stratify = y)\n",
    "Y_pred=Tree_classifier.predict(x)\n",
    "from sklearn.metrics import classification_report, confusion_matrix\n",
    "print(confusion_matrix(y, Y_pred))\n",
    "print(classification_report(y, Y_pred))"
   ]
  },
  {
   "cell_type": "code",
   "execution_count": 11,
   "id": "e826a13e-07e6-4a6b-add2-b4414b0ec7f5",
   "metadata": {},
   "outputs": [],
   "source": [
    "adasyn = ADASYN()\n",
    "xs, ys = adasyn.fit_resample(x, y)"
   ]
  },
  {
   "cell_type": "code",
   "execution_count": 12,
   "id": "6ac49fd2-a2a5-46e7-8125-490cf9645e0d",
   "metadata": {},
   "outputs": [],
   "source": [
    "x_train,x_test,y_train,y_test = train_test_split(xs,ys,random_state=0)"
   ]
  },
  {
   "cell_type": "code",
   "execution_count": 15,
   "id": "1e55e73f-0fa0-4329-a20f-fc23f7e36560",
   "metadata": {},
   "outputs": [
    {
     "name": "stdout",
     "output_type": "stream",
     "text": [
      "[[44914 12590]\n",
      " [ 3519 54096]]\n",
      "              precision    recall  f1-score   support\n",
      "\n",
      "         0.0       0.93      0.78      0.85     57504\n",
      "         1.0       0.81      0.94      0.87     57615\n",
      "\n",
      "    accuracy                           0.86    115119\n",
      "   macro avg       0.87      0.86      0.86    115119\n",
      "weighted avg       0.87      0.86      0.86    115119\n",
      "\n"
     ]
    }
   ],
   "source": [
    "Tree_classifier = RandomForestClassifier(max_depth = 10,class_weight={ 0:1.3, 1:2 },random_state=0,)\n",
    "Tree_classifier.fit(x_train,y_train)\n",
    "y_pred = Tree_classifier.predict(x_test)\n",
    "from sklearn.metrics import classification_report, confusion_matrix\n",
    "print(confusion_matrix(y_test, y_pred))\n",
    "print(classification_report(y_test, y_pred))"
   ]
  },
  {
   "cell_type": "code",
   "execution_count": 16,
   "id": "f8dbaa84-2576-439e-baf7-2d18bd2bb56c",
   "metadata": {},
   "outputs": [
    {
     "name": "stdout",
     "output_type": "stream",
     "text": [
      "[[179401  50386]\n",
      " [  6659  17234]]\n",
      "              precision    recall  f1-score   support\n",
      "\n",
      "         0.0       0.96      0.78      0.86    229787\n",
      "         1.0       0.25      0.72      0.38     23893\n",
      "\n",
      "    accuracy                           0.78    253680\n",
      "   macro avg       0.61      0.75      0.62    253680\n",
      "weighted avg       0.90      0.78      0.82    253680\n",
      "\n"
     ]
    }
   ],
   "source": [
    "X_train,X_test,Y_train,Y_test = train_test_split(x,y,random_state=0,stratify = y)\n",
    "Y_pred=Tree_classifier.predict(x)\n",
    "from sklearn.metrics import classification_report, confusion_matrix\n",
    "print(confusion_matrix(y, Y_pred))\n",
    "print(classification_report(y, Y_pred))"
   ]
  },
  {
   "cell_type": "code",
   "execution_count": null,
   "id": "847723d1-8476-40ca-bd9e-7f4e668d8c3e",
   "metadata": {},
   "outputs": [],
   "source": []
  }
 ],
 "metadata": {
  "kernelspec": {
   "display_name": "Python 3 (ipykernel)",
   "language": "python",
   "name": "python3"
  },
  "language_info": {
   "codemirror_mode": {
    "name": "ipython",
    "version": 3
   },
   "file_extension": ".py",
   "mimetype": "text/x-python",
   "name": "python",
   "nbconvert_exporter": "python",
   "pygments_lexer": "ipython3",
   "version": "3.8.12"
  }
 },
 "nbformat": 4,
 "nbformat_minor": 5
}
