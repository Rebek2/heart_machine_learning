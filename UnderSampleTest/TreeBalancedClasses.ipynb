{
 "cells": [
  {
   "cell_type": "code",
   "execution_count": 1,
   "id": "03f385cc-efe0-4694-92ef-0d2fc6844b06",
   "metadata": {},
   "outputs": [],
   "source": [
    "from sklearn import datasets\n",
    "from sklearn.model_selection import train_test_split\n",
    "from imblearn.over_sampling import SMOTE \n",
    "from sklearn.tree import DecisionTreeClassifier\n",
    "from sklearn import metrics\n",
    "import pandas as pd\n",
    "from imblearn.under_sampling import RandomUnderSampler,OneSidedSelection \n",
    "from imblearn.over_sampling import ADASYN\n",
    "df = pd.read_csv(\"../heart_disease_health_indicators_BRFSS2015.csv\")"
   ]
  },
  {
   "cell_type": "code",
   "execution_count": 2,
   "id": "4f5e9fbe-6117-40ce-982d-2e651b091e1a",
   "metadata": {},
   "outputs": [],
   "source": [
    "x=df.drop('HeartDiseaseorAttack',axis=1)\n",
    "y = df['HeartDiseaseorAttack'] # under\n",
    "#dzieli chorych i zdrowych na 0.5 i 0.5\n",
    "sampler = RandomUnderSampler(random_state=11)#sprawdzic jak dokladnie dziala\n",
    "xs, ys = sampler.fit_resample(x, y)#smote,adasyn,2:1"
   ]
  },
  {
   "cell_type": "code",
   "execution_count": 3,
   "id": "b7ede970-d9e2-4e18-8b33-b7e8b808d5e6",
   "metadata": {},
   "outputs": [],
   "source": [
    "#RandomUnderSampler"
   ]
  },
  {
   "cell_type": "code",
   "execution_count": 4,
   "id": "2d7a9948-17db-4267-b0ff-75b90e6d2b74",
   "metadata": {},
   "outputs": [
    {
     "data": {
      "text/plain": [
       "DecisionTreeClassifier(class_weight={0: 1.5, 1: 1.2}, max_depth=7,\n",
       "                       min_samples_leaf=15, random_state=0)"
      ]
     },
     "execution_count": 4,
     "metadata": {},
     "output_type": "execute_result"
    }
   ],
   "source": [
    "x_train,x_test,y_train,y_test = train_test_split(xs,ys)\n",
    "Tree_classifier = DecisionTreeClassifier(max_depth = 7,min_samples_leaf=15,class_weight={ 0:1.5, 1:1.2 },random_state=0,)\n",
    "Tree_classifier.fit(x_train,y_train)"
   ]
  },
  {
   "cell_type": "code",
   "execution_count": 5,
   "id": "c12f8d22-147a-4735-80fd-a8d4ed0fc0a5",
   "metadata": {
    "tags": []
   },
   "outputs": [
    {
     "name": "stdout",
     "output_type": "stream",
     "text": [
      "[[4548 1402]\n",
      " [1518 4479]]\n",
      "              precision    recall  f1-score   support\n",
      "\n",
      "         0.0       0.75      0.76      0.76      5950\n",
      "         1.0       0.76      0.75      0.75      5997\n",
      "\n",
      "    accuracy                           0.76     11947\n",
      "   macro avg       0.76      0.76      0.76     11947\n",
      "weighted avg       0.76      0.76      0.76     11947\n",
      "\n"
     ]
    }
   ],
   "source": [
    "y_pred = Tree_classifier.predict(x_test)\n",
    "from sklearn.metrics import classification_report, confusion_matrix\n",
    "print(confusion_matrix(y_test, y_pred))\n",
    "print(classification_report(y_test, y_pred))"
   ]
  },
  {
   "cell_type": "code",
   "execution_count": 6,
   "id": "ac6eb28e-a92c-4fb7-ac8b-59e9351da5bf",
   "metadata": {},
   "outputs": [
    {
     "name": "stdout",
     "output_type": "stream",
     "text": [
      "[[175558  54229]\n",
      " [  5862  18031]]\n",
      "              precision    recall  f1-score   support\n",
      "\n",
      "         0.0       0.97      0.76      0.85    229787\n",
      "         1.0       0.25      0.75      0.38     23893\n",
      "\n",
      "    accuracy                           0.76    253680\n",
      "   macro avg       0.61      0.76      0.61    253680\n",
      "weighted avg       0.90      0.76      0.81    253680\n",
      "\n"
     ]
    }
   ],
   "source": [
    "X_train,X_test,Y_train,Y_test = train_test_split(x,y,random_state=0)\n",
    "Y_pred=Tree_classifier.predict(x)\n",
    "from sklearn.metrics import classification_report, confusion_matrix\n",
    "print(confusion_matrix(y, Y_pred))\n",
    "print(classification_report(y, Y_pred))"
   ]
  },
  {
   "cell_type": "code",
   "execution_count": 7,
   "id": "50b7a94b-8918-4ed5-8976-85f6e3e81c66",
   "metadata": {},
   "outputs": [],
   "source": [
    "sm = SMOTE(random_state=42)"
   ]
  },
  {
   "cell_type": "code",
   "execution_count": 8,
   "id": "80ccf466-de02-445b-9bb6-ddf15a6db60e",
   "metadata": {},
   "outputs": [],
   "source": [
    "xs, ys = sm.fit_resample(x, y)"
   ]
  },
  {
   "cell_type": "code",
   "execution_count": 9,
   "id": "87664fc6-37b4-47b1-8137-5e8c8d42341e",
   "metadata": {},
   "outputs": [],
   "source": [
    "x_train,x_test,y_train,y_test = train_test_split(xs,ys,random_state=0)"
   ]
  },
  {
   "cell_type": "code",
   "execution_count": 10,
   "id": "7f9494e1-5a98-4968-be1f-b80995b742bc",
   "metadata": {},
   "outputs": [
    {
     "name": "stdout",
     "output_type": "stream",
     "text": [
      "[[46634 10772]\n",
      " [ 6195 51293]]\n",
      "              precision    recall  f1-score   support\n",
      "\n",
      "         0.0       0.88      0.81      0.85     57406\n",
      "         1.0       0.83      0.89      0.86     57488\n",
      "\n",
      "    accuracy                           0.85    114894\n",
      "   macro avg       0.85      0.85      0.85    114894\n",
      "weighted avg       0.85      0.85      0.85    114894\n",
      "\n"
     ]
    }
   ],
   "source": [
    "Tree_classifier = DecisionTreeClassifier(max_depth = 7,min_samples_leaf=15,class_weight={ 0:1.3, 1:2 },random_state=0,)\n",
    "Tree_classifier.fit(x_train,y_train)\n",
    "y_pred = Tree_classifier.predict(x_test)\n",
    "from sklearn.metrics import classification_report, confusion_matrix\n",
    "print(confusion_matrix(y_test, y_pred))\n",
    "print(classification_report(y_test, y_pred))"
   ]
  },
  {
   "cell_type": "code",
   "execution_count": 11,
   "id": "ca682b8d-c09b-42d3-b463-e4698738bd45",
   "metadata": {},
   "outputs": [
    {
     "name": "stdout",
     "output_type": "stream",
     "text": [
      "[[186526  43261]\n",
      " [  8580  15313]]\n",
      "              precision    recall  f1-score   support\n",
      "\n",
      "         0.0       0.96      0.81      0.88    229787\n",
      "         1.0       0.26      0.64      0.37     23893\n",
      "\n",
      "    accuracy                           0.80    253680\n",
      "   macro avg       0.61      0.73      0.62    253680\n",
      "weighted avg       0.89      0.80      0.83    253680\n",
      "\n"
     ]
    }
   ],
   "source": [
    "X_train,X_test,Y_train,Y_test = train_test_split(x,y,random_state=0,stratify = y)\n",
    "Y_pred=Tree_classifier.predict(x)\n",
    "from sklearn.metrics import classification_report, confusion_matrix\n",
    "print(confusion_matrix(y, Y_pred))\n",
    "print(classification_report(y, Y_pred))"
   ]
  },
  {
   "cell_type": "code",
   "execution_count": 12,
   "id": "9ce73f10-eb41-46da-bfd6-500772ecf63f",
   "metadata": {},
   "outputs": [],
   "source": [
    "adasyn = ADASYN()\n",
    "xs, ys = adasyn.fit_resample(x, y)"
   ]
  },
  {
   "cell_type": "code",
   "execution_count": 13,
   "id": "856ddf7a-2566-4041-9fc2-a6427047cda2",
   "metadata": {},
   "outputs": [],
   "source": [
    "x_train,x_test,y_train,y_test = train_test_split(xs,ys,random_state=0)"
   ]
  },
  {
   "cell_type": "code",
   "execution_count": 14,
   "id": "cb275467-d29e-4aaf-bde8-4fcd7966f70a",
   "metadata": {},
   "outputs": [
    {
     "name": "stdout",
     "output_type": "stream",
     "text": [
      "[[43942 13562]\n",
      " [ 5330 52285]]\n",
      "              precision    recall  f1-score   support\n",
      "\n",
      "         0.0       0.89      0.76      0.82     57504\n",
      "         1.0       0.79      0.91      0.85     57615\n",
      "\n",
      "    accuracy                           0.84    115119\n",
      "   macro avg       0.84      0.84      0.84    115119\n",
      "weighted avg       0.84      0.84      0.84    115119\n",
      "\n"
     ]
    }
   ],
   "source": [
    "Tree_classifier = DecisionTreeClassifier(max_depth = 7,min_samples_leaf=15,class_weight={ 0:1.3, 1:2 },random_state=0,)\n",
    "Tree_classifier.fit(x_train,y_train)\n",
    "y_pred = Tree_classifier.predict(x_test)\n",
    "from sklearn.metrics import classification_report, confusion_matrix\n",
    "print(confusion_matrix(y_test, y_pred))\n",
    "print(classification_report(y_test, y_pred))"
   ]
  },
  {
   "cell_type": "code",
   "execution_count": 15,
   "id": "1c63dc14-7f1a-42e7-9141-8b386bae1418",
   "metadata": {},
   "outputs": [
    {
     "name": "stdout",
     "output_type": "stream",
     "text": [
      "[[175608  54179]\n",
      " [  7177  16716]]\n",
      "              precision    recall  f1-score   support\n",
      "\n",
      "         0.0       0.96      0.76      0.85    229787\n",
      "         1.0       0.24      0.70      0.35     23893\n",
      "\n",
      "    accuracy                           0.76    253680\n",
      "   macro avg       0.60      0.73      0.60    253680\n",
      "weighted avg       0.89      0.76      0.80    253680\n",
      "\n"
     ]
    }
   ],
   "source": [
    "X_train,X_test,Y_train,Y_test = train_test_split(x,y,random_state=0,stratify = y)\n",
    "Y_pred=Tree_classifier.predict(x)\n",
    "from sklearn.metrics import classification_report, confusion_matrix\n",
    "print(confusion_matrix(y, Y_pred))\n",
    "print(classification_report(y, Y_pred))"
   ]
  },
  {
   "cell_type": "code",
   "execution_count": null,
   "id": "a2abca39-8a58-49a4-ab7d-b94ef3b16d7b",
   "metadata": {},
   "outputs": [],
   "source": [
    "osl = OneSidedSelection(sampling_strategy = 'majority')\n",
    "xs, ys = osl.fit_resample(x, y)\n",
    "x_train,x_test,y_train,y_test = train_test_split(xs,ys,random_state=0)\n"
   ]
  },
  {
   "cell_type": "code",
   "execution_count": null,
   "id": "a15281eb-089e-4491-a328-e17435c66a52",
   "metadata": {},
   "outputs": [],
   "source": [
    "Tree_classifier = DecisionTreeClassifier(max_depth = 7,min_samples_leaf=15,class_weight={ 0:1.3, 1:2 },random_state=0,)\n",
    "Tree_classifier.fit(x_train,y_train)\n",
    "y_pred = Tree_classifier.predict(x_test)\n",
    "from sklearn.metrics import classification_report, confusion_matrix\n",
    "print(confusion_matrix(y_test, y_pred))\n",
    "print(classification_report(y_test, y_pred))"
   ]
  },
  {
   "cell_type": "code",
   "execution_count": null,
   "id": "c3f116f4-a268-45aa-9193-54dc8cf4be96",
   "metadata": {},
   "outputs": [],
   "source": [
    "X_train,X_test,Y_train,Y_test = train_test_split(x,y,random_state=0,stratify = y)\n",
    "Y_pred=Tree_classifier.predict(x)\n",
    "from sklearn.metrics import classification_report, confusion_matrix\n",
    "print(confusion_matrix(y, Y_pred))\n",
    "print(classification_report(y, Y_pred))"
   ]
  }
 ],
 "metadata": {
  "kernelspec": {
   "display_name": "Python 3 (ipykernel)",
   "language": "python",
   "name": "python3"
  },
  "language_info": {
   "codemirror_mode": {
    "name": "ipython",
    "version": 3
   },
   "file_extension": ".py",
   "mimetype": "text/x-python",
   "name": "python",
   "nbconvert_exporter": "python",
   "pygments_lexer": "ipython3",
   "version": "3.8.12"
  }
 },
 "nbformat": 4,
 "nbformat_minor": 5
}
