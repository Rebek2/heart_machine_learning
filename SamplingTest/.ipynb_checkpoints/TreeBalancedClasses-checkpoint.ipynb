{
 "cells": [
  {
   "cell_type": "code",
   "execution_count": 1,
   "id": "03f385cc-efe0-4694-92ef-0d2fc6844b06",
   "metadata": {},
   "outputs": [],
   "source": [
    "from sklearn import datasets\n",
    "from sklearn.model_selection import train_test_split\n",
    "from imblearn.over_sampling import SMOTE \n",
    "from sklearn.tree import DecisionTreeClassifier\n",
    "from sklearn import metrics\n",
    "import pandas as pd\n",
    "from imblearn.under_sampling import RandomUnderSampler,OneSidedSelection \n",
    "from imblearn.over_sampling import ADASYN\n",
    "df = pd.read_csv(\"../heart_disease_health_indicators_BRFSS2015.csv\")"
   ]
  },
  {
   "cell_type": "code",
   "execution_count": 3,
   "id": "4f5e9fbe-6117-40ce-982d-2e651b091e1a",
   "metadata": {},
   "outputs": [],
   "source": [
    "x=df.drop('HeartDiseaseorAttack',axis=1)\n",
    "y = df['HeartDiseaseorAttack'] # under\n",
    "#dzieli chorych i zdrowych na 0.5 i 0.5\n",
    "\n",
    "xtrain,x_test,ytrain,y_test = train_test_split(x,y, stratify = y,shuffle = True,random_state = 0)\n",
    "\n",
    "sampler = RandomUnderSampler(random_state=11)#sprawdzic jak dokladnie dziala\n",
    "x_train, y_train = sampler.fit_resample(xtrain, ytrain)#smote,adasyn,2:1"
   ]
  },
  {
   "cell_type": "code",
   "execution_count": null,
   "id": "b7ede970-d9e2-4e18-8b33-b7e8b808d5e6",
   "metadata": {},
   "outputs": [],
   "source": [
    "#RandomUnderSampler"
   ]
  },
  {
   "cell_type": "code",
   "execution_count": 4,
   "id": "2d7a9948-17db-4267-b0ff-75b90e6d2b74",
   "metadata": {},
   "outputs": [
    {
     "data": {
      "text/plain": [
       "DecisionTreeClassifier(class_weight={0: 1.5, 1: 1.2}, max_depth=7,\n",
       "                       min_samples_leaf=15, random_state=0)"
      ]
     },
     "execution_count": 4,
     "metadata": {},
     "output_type": "execute_result"
    }
   ],
   "source": [
    "\n",
    "Tree_classifier = DecisionTreeClassifier(max_depth = 7,min_samples_leaf=15,class_weight={ 0:1.5, 1:1.2 },random_state=0,)\n",
    "Tree_classifier.fit(x_train,y_train)"
   ]
  },
  {
   "cell_type": "code",
   "execution_count": 5,
   "id": "c12f8d22-147a-4735-80fd-a8d4ed0fc0a5",
   "metadata": {
    "tags": []
   },
   "outputs": [
    {
     "name": "stdout",
     "output_type": "stream",
     "text": [
      "[[43289 14158]\n",
      " [ 1443  4530]]\n",
      "              precision    recall  f1-score   support\n",
      "\n",
      "         0.0       0.97      0.75      0.85     57447\n",
      "         1.0       0.24      0.76      0.37      5973\n",
      "\n",
      "    accuracy                           0.75     63420\n",
      "   macro avg       0.61      0.76      0.61     63420\n",
      "weighted avg       0.90      0.75      0.80     63420\n",
      "\n"
     ]
    }
   ],
   "source": [
    "y_pred = Tree_classifier.predict(x_test)\n",
    "from sklearn.metrics import classification_report, confusion_matrix\n",
    "print(confusion_matrix(y_test, y_pred))\n",
    "print(classification_report(y_test, y_pred))"
   ]
  },
  {
   "cell_type": "code",
   "execution_count": null,
   "id": "ac6eb28e-a92c-4fb7-ac8b-59e9351da5bf",
   "metadata": {},
   "outputs": [],
   "source": []
  },
  {
   "cell_type": "code",
   "execution_count": 15,
   "id": "50b7a94b-8918-4ed5-8976-85f6e3e81c66",
   "metadata": {},
   "outputs": [],
   "source": [
    "sm = SMOTE(random_state=42)\n",
    "xtrain,x_test,ytrain,y_test = train_test_split(x,y,random_state=0,stratify =y,shuffle = True,random_state = 0)"
   ]
  },
  {
   "cell_type": "code",
   "execution_count": 16,
   "id": "80ccf466-de02-445b-9bb6-ddf15a6db60e",
   "metadata": {},
   "outputs": [],
   "source": [
    "x_train, y_train = sm.fit_resample(xtrain, ytrain)"
   ]
  },
  {
   "cell_type": "code",
   "execution_count": 18,
   "id": "7f9494e1-5a98-4968-be1f-b80995b742bc",
   "metadata": {},
   "outputs": [
    {
     "name": "stdout",
     "output_type": "stream",
     "text": [
      "[[42666 14781]\n",
      " [ 1502  4471]]\n",
      "              precision    recall  f1-score   support\n",
      "\n",
      "         0.0       0.97      0.74      0.84     57447\n",
      "         1.0       0.23      0.75      0.35      5973\n",
      "\n",
      "    accuracy                           0.74     63420\n",
      "   macro avg       0.60      0.75      0.60     63420\n",
      "weighted avg       0.90      0.74      0.79     63420\n",
      "\n"
     ]
    }
   ],
   "source": [
    "Tree_classifier = DecisionTreeClassifier(max_depth = 9,min_samples_leaf=20,class_weight={0:1,1:3},random_state=0,)\n",
    "Tree_classifier.fit(x_train,y_train)\n",
    "\n",
    "y_pred = Tree_classifier.predict(x_test)\n",
    "\n",
    "from sklearn.metrics import classification_report, confusion_matrix\n",
    "print(confusion_matrix(y_test, y_pred))\n",
    "print(classification_report(y_test, y_pred))"
   ]
  },
  {
   "cell_type": "code",
   "execution_count": 20,
   "id": "9ce73f10-eb41-46da-bfd6-500772ecf63f",
   "metadata": {},
   "outputs": [],
   "source": [
    "adasyn = ADASYN()\n",
    "xtrain,x_test,ytrain,y_test = train_test_split(x,y,random_state=0,shuffle = True,stratify = y,random_state = 0)\n",
    "x_train, y_train = adasyn.fit_resample(xtrain, ytrain)"
   ]
  },
  {
   "cell_type": "code",
   "execution_count": 22,
   "id": "cb275467-d29e-4aaf-bde8-4fcd7966f70a",
   "metadata": {},
   "outputs": [
    {
     "name": "stdout",
     "output_type": "stream",
     "text": [
      "[[41900 15547]\n",
      " [ 1456  4517]]\n",
      "              precision    recall  f1-score   support\n",
      "\n",
      "         0.0       0.97      0.73      0.83     57447\n",
      "         1.0       0.23      0.76      0.35      5973\n",
      "\n",
      "    accuracy                           0.73     63420\n",
      "   macro avg       0.60      0.74      0.59     63420\n",
      "weighted avg       0.90      0.73      0.79     63420\n",
      "\n"
     ]
    }
   ],
   "source": [
    "Tree_classifier = DecisionTreeClassifier(max_depth = 7,min_samples_leaf=15,class_weight={ 0:1, 1:2 },random_state=0,)\n",
    "Tree_classifier.fit(x_train,y_train)\n",
    "y_pred = Tree_classifier.predict(x_test)\n",
    "from sklearn.metrics import classification_report, confusion_matrix\n",
    "print(confusion_matrix(y_test, y_pred))\n",
    "print(classification_report(y_test, y_pred))"
   ]
  },
  {
   "cell_type": "code",
   "execution_count": null,
   "id": "a2abca39-8a58-49a4-ab7d-b94ef3b16d7b",
   "metadata": {},
   "outputs": [],
   "source": [
    "\n",
    "osl = OneSidedSelection(sampling_strategy = 'auto')\n",
    "\n",
    "xtrain,x_test,ytrain,y_test = train_test_split(xs,ys,random_state=0)\n",
    "x_train, y_train = osl.fit_resample(xtrain, ytrain)"
   ]
  },
  {
   "cell_type": "code",
   "execution_count": null,
   "id": "a15281eb-089e-4491-a328-e17435c66a52",
   "metadata": {},
   "outputs": [],
   "source": [
    "Tree_classifier = DecisionTreeClassifier(max_depth = 7,min_samples_leaf=15,class_weight={ 0:1, 1:2 },random_state=0,)\n",
    "Tree_classifier.fit(x_train,y_train)\n",
    "y_pred = Tree_classifier.predict(x_test)\n",
    "from sklearn.metrics import classification_report, confusion_matrix\n",
    "print(confusion_matrix(y_test, y_pred))\n",
    "print(classification_report(y_test, y_pred))"
   ]
  },
  {
   "cell_type": "code",
   "execution_count": null,
   "id": "9b58a935-eeaa-4077-b2ec-3ec184e70399",
   "metadata": {},
   "outputs": [],
   "source": []
  }
 ],
 "metadata": {
  "kernelspec": {
   "display_name": "Python 3 (ipykernel)",
   "language": "python",
   "name": "python3"
  },
  "language_info": {
   "codemirror_mode": {
    "name": "ipython",
    "version": 3
   },
   "file_extension": ".py",
   "mimetype": "text/x-python",
   "name": "python",
   "nbconvert_exporter": "python",
   "pygments_lexer": "ipython3",
   "version": "3.8.12"
  }
 },
 "nbformat": 4,
 "nbformat_minor": 5
}
