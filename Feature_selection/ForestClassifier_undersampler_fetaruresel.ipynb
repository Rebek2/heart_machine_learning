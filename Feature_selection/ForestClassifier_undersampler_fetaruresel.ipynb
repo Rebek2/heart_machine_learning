{
 "cells": [
  {
   "cell_type": "code",
   "execution_count": 160,
   "id": "73e5b0d5-0bfc-4ae1-8623-eaef5c32b17b",
   "metadata": {},
   "outputs": [],
   "source": [
    "from sklearn import datasets\n",
    "from sklearn.model_selection import train_test_split\n",
    "from imblearn.over_sampling import SMOTE \n",
    "from sklearn.ensemble import RandomForestClassifier\n",
    "from sklearn import metrics\n",
    "import pandas as pd\n",
    "from imblearn.under_sampling import RandomUnderSampler\n",
    "from imblearn.over_sampling import ADASYN\n",
    "from sklearn.metrics import classification_report, confusion_matrix,recall_score \n",
    "df = pd.read_csv(\"../heart_disease_health_indicators_BRFSS2015.csv\")"
   ]
  },
  {
   "cell_type": "code",
   "execution_count": 161,
   "id": "3188ec42-80fc-4ba2-9f51-f3eca181b92a",
   "metadata": {},
   "outputs": [],
   "source": [
    "x=df.drop('HeartDiseaseorAttack',axis=1)\n",
    "y = df['HeartDiseaseorAttack'] # under"
   ]
  },
  {
   "cell_type": "code",
   "execution_count": 162,
   "id": "0100e4b0-f860-4ebd-aba8-c79fb99dacef",
   "metadata": {},
   "outputs": [],
   "source": [
    "xtrain,x_test,ytrain,y_test = train_test_split(x,y,random_state = 0,stratify = y)\n",
    "sampler = RandomUnderSampler(random_state=11)\n",
    "x_train, y_train = sampler.fit_resample(xtrain, ytrain)"
   ]
  },
  {
   "cell_type": "code",
   "execution_count": 163,
   "id": "98e826e3-20b7-4ee5-8d76-d0cf7092ac93",
   "metadata": {},
   "outputs": [
    {
     "data": {
      "text/plain": [
       "RandomForestClassifier(class_weight='balanced', max_depth=10, random_state=0)"
      ]
     },
     "execution_count": 163,
     "metadata": {},
     "output_type": "execute_result"
    }
   ],
   "source": [
    "Tree_classifier = RandomForestClassifier(max_depth = 10,class_weight='balanced',random_state=0,)\n",
    "Tree_classifier.fit(x_train,y_train)"
   ]
  },
  {
   "cell_type": "code",
   "execution_count": 164,
   "id": "3605132f-e333-4533-bc01-be132f472449",
   "metadata": {},
   "outputs": [
    {
     "name": "stdout",
     "output_type": "stream",
     "text": [
      "[[41000 16447]\n",
      " [ 1007  4966]]\n",
      "              precision    recall  f1-score   support\n",
      "\n",
      "         0.0       0.98      0.71      0.82     57447\n",
      "         1.0       0.23      0.83      0.36      5973\n",
      "\n",
      "    accuracy                           0.72     63420\n",
      "   macro avg       0.60      0.77      0.59     63420\n",
      "weighted avg       0.91      0.72      0.78     63420\n",
      "\n"
     ]
    }
   ],
   "source": [
    "y_pred = Tree_classifier.predict(x_test)\n",
    "print(confusion_matrix(y_test, y_pred))\n",
    "print(classification_report(y_test, y_pred))"
   ]
  },
  {
   "cell_type": "code",
   "execution_count": 165,
   "id": "3279a9e7-e09c-4519-868b-f2002989feef",
   "metadata": {},
   "outputs": [
    {
     "data": {
      "text/plain": [
       "0.831408002678721"
      ]
     },
     "execution_count": 165,
     "metadata": {},
     "output_type": "execute_result"
    }
   ],
   "source": [
    "recall_score(y_test,y_pred)"
   ]
  },
  {
   "cell_type": "code",
   "execution_count": null,
   "id": "bc42d02d-5d82-4070-80ff-5083dd2c7fd2",
   "metadata": {},
   "outputs": [],
   "source": []
  },
  {
   "cell_type": "code",
   "execution_count": 166,
   "id": "e861699a-3ec1-462d-bc2d-d6a26e6f92f6",
   "metadata": {},
   "outputs": [],
   "source": [
    "import seaborn as sns\n",
    "import matplotlib.pyplot as plt \n",
    "danex = ['HighBP', 'HighChol', 'CholCheck', 'BMI',\n",
    "       'Smoker', 'Stroke', 'Diabetes', 'PhysActivity', 'Fruits', 'Veggies',\n",
    "       'HvyAlcoholConsump', 'AnyHealthcare', 'NoDocbcCost', 'GenHlth',\n",
    "       'MentHlth', 'PhysHlth', 'DiffWalk', 'Sex', 'Age', 'Education',\n",
    "       'Income']\n",
    "daney = Tree_classifier.feature_importances_"
   ]
  },
  {
   "cell_type": "code",
   "execution_count": 167,
   "id": "2c634f9a-8c74-412f-a563-5ccaf9cf5b96",
   "metadata": {},
   "outputs": [],
   "source": [
    "datafr = pd.DataFrame({\"Feature\":danex,\n",
    "                      \"Value\":daney})"
   ]
  },
  {
   "cell_type": "code",
   "execution_count": 168,
   "id": "8b0f2f40-a772-48f7-8750-222e0127e56a",
   "metadata": {},
   "outputs": [
    {
     "data": {
      "image/png": "[encoded data removed]",
      "text/plain": [
       "<Figure size 432x288 with 1 Axes>"
      ]
     },
     "metadata": {
      "needs_background": "light"
     },
     "output_type": "display_data"
    }
   ],
   "source": [
    "sns.barplot(x = 'Value',y='Feature', data = datafr,palette = 'magma',order=datafr.sort_values('Value',ascending = False).Feature)\n",
    "\n",
    "plt.savefig('../Plots/TreeFeature2.png')"
   ]
  },
  {
   "cell_type": "code",
   "execution_count": 169,
   "id": "f372aefc-1db6-4f61-8a84-8b366c39e813",
   "metadata": {},
   "outputs": [],
   "source": [
    "f = datafr.sort_values('Value',ascending = True).Feature\n"
   ]
  },
  {
   "cell_type": "code",
   "execution_count": 170,
   "id": "97202d2f-ae54-44a3-a9ec-d75c20925aff",
   "metadata": {},
   "outputs": [
    {
     "data": {
      "text/plain": [
       "['HvyAlcoholConsump',\n",
       " 'AnyHealthcare',\n",
       " 'CholCheck',\n",
       " 'NoDocbcCost',\n",
       " 'Veggies',\n",
       " 'Fruits',\n",
       " 'PhysActivity',\n",
       " 'MentHlth',\n",
       " 'Education',\n",
       " 'Smoker',\n",
       " 'BMI',\n",
       " 'Income',\n",
       " 'Diabetes',\n",
       " 'Sex',\n",
       " 'Stroke',\n",
       " 'PhysHlth',\n",
       " 'DiffWalk',\n",
       " 'HighChol',\n",
       " 'HighBP',\n",
       " 'GenHlth',\n",
       " 'Age']"
      ]
     },
     "execution_count": 170,
     "metadata": {},
     "output_type": "execute_result"
    }
   ],
   "source": [
    "features = []\n",
    "for i in f:\n",
    "    features.append(i)\n",
    "features"
   ]
  },
  {
   "cell_type": "code",
   "execution_count": 179,
   "id": "2e1fcdfd-da55-46b4-8d30-717a3c28c31d",
   "metadata": {},
   "outputs": [
    {
     "name": "stdout",
     "output_type": "stream",
     "text": [
      "ilosc features:20\n",
      "[[40995 16452]\n",
      " [ 1037  4936]]\n",
      "              precision    recall  f1-score   support\n",
      "\n",
      "         0.0       0.98      0.71      0.82     57447\n",
      "         1.0       0.23      0.83      0.36      5973\n",
      "\n",
      "    accuracy                           0.72     63420\n",
      "   macro avg       0.60      0.77      0.59     63420\n",
      "weighted avg       0.91      0.72      0.78     63420\n",
      "\n",
      "ilosc features:19\n",
      "[[40795 16652]\n",
      " [  994  4979]]\n",
      "              precision    recall  f1-score   support\n",
      "\n",
      "         0.0       0.98      0.71      0.82     57447\n",
      "         1.0       0.23      0.83      0.36      5973\n",
      "\n",
      "    accuracy                           0.72     63420\n",
      "   macro avg       0.60      0.77      0.59     63420\n",
      "weighted avg       0.91      0.72      0.78     63420\n",
      "\n",
      "ilosc features:18\n",
      "[[40930 16517]\n",
      " [ 1010  4963]]\n",
      "              precision    recall  f1-score   support\n",
      "\n",
      "         0.0       0.98      0.71      0.82     57447\n",
      "         1.0       0.23      0.83      0.36      5973\n",
      "\n",
      "    accuracy                           0.72     63420\n",
      "   macro avg       0.60      0.77      0.59     63420\n",
      "weighted avg       0.91      0.72      0.78     63420\n",
      "\n",
      "ilosc features:17\n",
      "[[40726 16721]\n",
      " [ 1016  4957]]\n",
      "              precision    recall  f1-score   support\n",
      "\n",
      "         0.0       0.98      0.71      0.82     57447\n",
      "         1.0       0.23      0.83      0.36      5973\n",
      "\n",
      "    accuracy                           0.72     63420\n",
      "   macro avg       0.60      0.77      0.59     63420\n",
      "weighted avg       0.91      0.72      0.78     63420\n",
      "\n",
      "ilosc features:16\n",
      "[[40716 16731]\n",
      " [ 1012  4961]]\n",
      "              precision    recall  f1-score   support\n",
      "\n",
      "         0.0       0.98      0.71      0.82     57447\n",
      "         1.0       0.23      0.83      0.36      5973\n",
      "\n",
      "    accuracy                           0.72     63420\n",
      "   macro avg       0.60      0.77      0.59     63420\n",
      "weighted avg       0.91      0.72      0.78     63420\n",
      "\n",
      "ilosc features:15\n",
      "[[40992 16455]\n",
      " [ 1027  4946]]\n",
      "              precision    recall  f1-score   support\n",
      "\n",
      "         0.0       0.98      0.71      0.82     57447\n",
      "         1.0       0.23      0.83      0.36      5973\n",
      "\n",
      "    accuracy                           0.72     63420\n",
      "   macro avg       0.60      0.77      0.59     63420\n",
      "weighted avg       0.91      0.72      0.78     63420\n",
      "\n",
      "ilosc features:14\n",
      "[[40781 16666]\n",
      " [ 1021  4952]]\n",
      "              precision    recall  f1-score   support\n",
      "\n",
      "         0.0       0.98      0.71      0.82     57447\n",
      "         1.0       0.23      0.83      0.36      5973\n",
      "\n",
      "    accuracy                           0.72     63420\n",
      "   macro avg       0.60      0.77      0.59     63420\n",
      "weighted avg       0.91      0.72      0.78     63420\n",
      "\n",
      "ilosc features:13\n",
      "[[40865 16582]\n",
      " [ 1032  4941]]\n",
      "              precision    recall  f1-score   support\n",
      "\n",
      "         0.0       0.98      0.71      0.82     57447\n",
      "         1.0       0.23      0.83      0.36      5973\n",
      "\n",
      "    accuracy                           0.72     63420\n",
      "   macro avg       0.60      0.77      0.59     63420\n",
      "weighted avg       0.91      0.72      0.78     63420\n",
      "\n",
      "ilosc features:12\n",
      "[[40841 16606]\n",
      " [ 1021  4952]]\n",
      "              precision    recall  f1-score   support\n",
      "\n",
      "         0.0       0.98      0.71      0.82     57447\n",
      "         1.0       0.23      0.83      0.36      5973\n",
      "\n",
      "    accuracy                           0.72     63420\n",
      "   macro avg       0.60      0.77      0.59     63420\n",
      "weighted avg       0.91      0.72      0.78     63420\n",
      "\n",
      "ilosc features:11\n",
      "[[40714 16733]\n",
      " [ 1026  4947]]\n",
      "              precision    recall  f1-score   support\n",
      "\n",
      "         0.0       0.98      0.71      0.82     57447\n",
      "         1.0       0.23      0.83      0.36      5973\n",
      "\n",
      "    accuracy                           0.72     63420\n",
      "   macro avg       0.60      0.77      0.59     63420\n",
      "weighted avg       0.91      0.72      0.78     63420\n",
      "\n",
      "ilosc features:10\n",
      "[[40794 16653]\n",
      " [ 1036  4937]]\n",
      "              precision    recall  f1-score   support\n",
      "\n",
      "         0.0       0.98      0.71      0.82     57447\n",
      "         1.0       0.23      0.83      0.36      5973\n",
      "\n",
      "    accuracy                           0.72     63420\n",
      "   macro avg       0.60      0.77      0.59     63420\n",
      "weighted avg       0.90      0.72      0.78     63420\n",
      "\n",
      "ilosc features:9\n",
      "[[40899 16548]\n",
      " [ 1073  4900]]\n",
      "              precision    recall  f1-score   support\n",
      "\n",
      "         0.0       0.97      0.71      0.82     57447\n",
      "         1.0       0.23      0.82      0.36      5973\n",
      "\n",
      "    accuracy                           0.72     63420\n",
      "   macro avg       0.60      0.77      0.59     63420\n",
      "weighted avg       0.90      0.72      0.78     63420\n",
      "\n",
      "ilosc features:8\n",
      "[[40629 16818]\n",
      " [ 1056  4917]]\n",
      "              precision    recall  f1-score   support\n",
      "\n",
      "         0.0       0.97      0.71      0.82     57447\n",
      "         1.0       0.23      0.82      0.35      5973\n",
      "\n",
      "    accuracy                           0.72     63420\n",
      "   macro avg       0.60      0.77      0.59     63420\n",
      "weighted avg       0.90      0.72      0.78     63420\n",
      "\n",
      "ilosc features:7\n",
      "[[39778 17669]\n",
      " [ 1073  4900]]\n",
      "              precision    recall  f1-score   support\n",
      "\n",
      "         0.0       0.97      0.69      0.81     57447\n",
      "         1.0       0.22      0.82      0.34      5973\n",
      "\n",
      "    accuracy                           0.70     63420\n",
      "   macro avg       0.60      0.76      0.58     63420\n",
      "weighted avg       0.90      0.70      0.77     63420\n",
      "\n",
      "ilosc features:6\n",
      "[[39573 17874]\n",
      " [ 1109  4864]]\n",
      "              precision    recall  f1-score   support\n",
      "\n",
      "         0.0       0.97      0.69      0.81     57447\n",
      "         1.0       0.21      0.81      0.34      5973\n",
      "\n",
      "    accuracy                           0.70     63420\n",
      "   macro avg       0.59      0.75      0.57     63420\n",
      "weighted avg       0.90      0.70      0.76     63420\n",
      "\n",
      "ilosc features:5\n",
      "[[40194 17253]\n",
      " [ 1177  4796]]\n",
      "              precision    recall  f1-score   support\n",
      "\n",
      "         0.0       0.97      0.70      0.81     57447\n",
      "         1.0       0.22      0.80      0.34      5973\n",
      "\n",
      "    accuracy                           0.71     63420\n",
      "   macro avg       0.59      0.75      0.58     63420\n",
      "weighted avg       0.90      0.71      0.77     63420\n",
      "\n",
      "ilosc features:4\n",
      "[[39584 17863]\n",
      " [ 1126  4847]]\n",
      "              precision    recall  f1-score   support\n",
      "\n",
      "         0.0       0.97      0.69      0.81     57447\n",
      "         1.0       0.21      0.81      0.34      5973\n",
      "\n",
      "    accuracy                           0.70     63420\n",
      "   macro avg       0.59      0.75      0.57     63420\n",
      "weighted avg       0.90      0.70      0.76     63420\n",
      "\n",
      "ilosc features:3\n",
      "[[39702 17745]\n",
      " [ 1214  4759]]\n",
      "              precision    recall  f1-score   support\n",
      "\n",
      "         0.0       0.97      0.69      0.81     57447\n",
      "         1.0       0.21      0.80      0.33      5973\n",
      "\n",
      "    accuracy                           0.70     63420\n",
      "   macro avg       0.59      0.74      0.57     63420\n",
      "weighted avg       0.90      0.70      0.76     63420\n",
      "\n",
      "ilosc features:2\n",
      "[[37799 19648]\n",
      " [ 1137  4836]]\n",
      "              precision    recall  f1-score   support\n",
      "\n",
      "         0.0       0.97      0.66      0.78     57447\n",
      "         1.0       0.20      0.81      0.32      5973\n",
      "\n",
      "    accuracy                           0.67     63420\n",
      "   macro avg       0.58      0.73      0.55     63420\n",
      "weighted avg       0.90      0.67      0.74     63420\n",
      "\n",
      "ilosc features:1\n",
      "[[31520 25927]\n",
      " [ 1247  4726]]\n",
      "              precision    recall  f1-score   support\n",
      "\n",
      "         0.0       0.96      0.55      0.70     57447\n",
      "         1.0       0.15      0.79      0.26      5973\n",
      "\n",
      "    accuracy                           0.57     63420\n",
      "   macro avg       0.56      0.67      0.48     63420\n",
      "weighted avg       0.89      0.57      0.66     63420\n",
      "\n",
      "ilosc features:0\n"
     ]
    },
    {
     "ename": "ValueError",
     "evalue": "at least one array or dtype is required",
     "output_type": "error",
     "traceback": [
      "\u001b[0;31m---------------------------------------------------------------------------\u001b[0m",
      "\u001b[0;31mValueError\u001b[0m                                Traceback (most recent call last)",
      "Input \u001b[0;32mIn [179]\u001b[0m, in \u001b[0;36m<cell line: 8>\u001b[0;34m()\u001b[0m\n\u001b[1;32m     14\u001b[0m sampler \u001b[38;5;241m=\u001b[39m RandomUnderSampler(random_state\u001b[38;5;241m=\u001b[39m\u001b[38;5;241m11\u001b[39m)\n\u001b[1;32m     15\u001b[0m xtrain,x_test,ytrain,y_test \u001b[38;5;241m=\u001b[39m train_test_split(x1,y,random_state \u001b[38;5;241m=\u001b[39m \u001b[38;5;241m0\u001b[39m,stratify \u001b[38;5;241m=\u001b[39m y)\n\u001b[0;32m---> 16\u001b[0m x_train, y_train \u001b[38;5;241m=\u001b[39m \u001b[43msampler\u001b[49m\u001b[38;5;241;43m.\u001b[39;49m\u001b[43mfit_resample\u001b[49m\u001b[43m(\u001b[49m\u001b[43mxtrain\u001b[49m\u001b[43m,\u001b[49m\u001b[43m \u001b[49m\u001b[43mytrain\u001b[49m\u001b[43m)\u001b[49m\n\u001b[1;32m     17\u001b[0m Tree_classifier \u001b[38;5;241m=\u001b[39m RandomForestClassifier(max_depth \u001b[38;5;241m=\u001b[39m \u001b[38;5;241m10\u001b[39m,class_weight\u001b[38;5;241m=\u001b[39m\u001b[38;5;124m'\u001b[39m\u001b[38;5;124mbalanced\u001b[39m\u001b[38;5;124m'\u001b[39m,random_state\u001b[38;5;241m=\u001b[39m\u001b[38;5;241m0\u001b[39m,)\n\u001b[1;32m     18\u001b[0m Tree_classifier\u001b[38;5;241m.\u001b[39mfit(x_train,y_train)\n",
      "File \u001b[0;32m~/opt/miniconda3/envs/vivenv/lib/python3.8/site-packages/imblearn/base.py:77\u001b[0m, in \u001b[0;36mSamplerMixin.fit_resample\u001b[0;34m(self, X, y)\u001b[0m\n\u001b[1;32m     75\u001b[0m check_classification_targets(y)\n\u001b[1;32m     76\u001b[0m arrays_transformer \u001b[38;5;241m=\u001b[39m ArraysTransformer(X, y)\n\u001b[0;32m---> 77\u001b[0m X, y, binarize_y \u001b[38;5;241m=\u001b[39m \u001b[38;5;28;43mself\u001b[39;49m\u001b[38;5;241;43m.\u001b[39;49m\u001b[43m_check_X_y\u001b[49m\u001b[43m(\u001b[49m\u001b[43mX\u001b[49m\u001b[43m,\u001b[49m\u001b[43m \u001b[49m\u001b[43my\u001b[49m\u001b[43m)\u001b[49m\n\u001b[1;32m     79\u001b[0m \u001b[38;5;28mself\u001b[39m\u001b[38;5;241m.\u001b[39msampling_strategy_ \u001b[38;5;241m=\u001b[39m check_sampling_strategy(\n\u001b[1;32m     80\u001b[0m     \u001b[38;5;28mself\u001b[39m\u001b[38;5;241m.\u001b[39msampling_strategy, y, \u001b[38;5;28mself\u001b[39m\u001b[38;5;241m.\u001b[39m_sampling_type\n\u001b[1;32m     81\u001b[0m )\n\u001b[1;32m     83\u001b[0m output \u001b[38;5;241m=\u001b[39m \u001b[38;5;28mself\u001b[39m\u001b[38;5;241m.\u001b[39m_fit_resample(X, y)\n",
      "File \u001b[0;32m~/opt/miniconda3/envs/vivenv/lib/python3.8/site-packages/imblearn/under_sampling/_prototype_selection/_random_under_sampler.py:94\u001b[0m, in \u001b[0;36mRandomUnderSampler._check_X_y\u001b[0;34m(self, X, y)\u001b[0m\n\u001b[1;32m     92\u001b[0m \u001b[38;5;28;01mdef\u001b[39;00m \u001b[38;5;21m_check_X_y\u001b[39m(\u001b[38;5;28mself\u001b[39m, X, y):\n\u001b[1;32m     93\u001b[0m     y, binarize_y \u001b[38;5;241m=\u001b[39m check_target_type(y, indicate_one_vs_all\u001b[38;5;241m=\u001b[39m\u001b[38;5;28;01mTrue\u001b[39;00m)\n\u001b[0;32m---> 94\u001b[0m     X, y \u001b[38;5;241m=\u001b[39m \u001b[38;5;28;43mself\u001b[39;49m\u001b[38;5;241;43m.\u001b[39;49m\u001b[43m_validate_data\u001b[49m\u001b[43m(\u001b[49m\n\u001b[1;32m     95\u001b[0m \u001b[43m        \u001b[49m\u001b[43mX\u001b[49m\u001b[43m,\u001b[49m\n\u001b[1;32m     96\u001b[0m \u001b[43m        \u001b[49m\u001b[43my\u001b[49m\u001b[43m,\u001b[49m\n\u001b[1;32m     97\u001b[0m \u001b[43m        \u001b[49m\u001b[43mreset\u001b[49m\u001b[38;5;241;43m=\u001b[39;49m\u001b[38;5;28;43;01mTrue\u001b[39;49;00m\u001b[43m,\u001b[49m\n\u001b[1;32m     98\u001b[0m \u001b[43m        \u001b[49m\u001b[43maccept_sparse\u001b[49m\u001b[38;5;241;43m=\u001b[39;49m\u001b[43m[\u001b[49m\u001b[38;5;124;43m\"\u001b[39;49m\u001b[38;5;124;43mcsr\u001b[39;49m\u001b[38;5;124;43m\"\u001b[39;49m\u001b[43m,\u001b[49m\u001b[43m \u001b[49m\u001b[38;5;124;43m\"\u001b[39;49m\u001b[38;5;124;43mcsc\u001b[39;49m\u001b[38;5;124;43m\"\u001b[39;49m\u001b[43m]\u001b[49m\u001b[43m,\u001b[49m\n\u001b[1;32m     99\u001b[0m \u001b[43m        \u001b[49m\u001b[43mdtype\u001b[49m\u001b[38;5;241;43m=\u001b[39;49m\u001b[38;5;28;43;01mNone\u001b[39;49;00m\u001b[43m,\u001b[49m\n\u001b[1;32m    100\u001b[0m \u001b[43m        \u001b[49m\u001b[43mforce_all_finite\u001b[49m\u001b[38;5;241;43m=\u001b[39;49m\u001b[38;5;28;43;01mFalse\u001b[39;49;00m\u001b[43m,\u001b[49m\n\u001b[1;32m    101\u001b[0m \u001b[43m    \u001b[49m\u001b[43m)\u001b[49m\n\u001b[1;32m    102\u001b[0m     \u001b[38;5;28;01mreturn\u001b[39;00m X, y, binarize_y\n",
      "File \u001b[0;32m~/opt/miniconda3/envs/vivenv/lib/python3.8/site-packages/sklearn/base.py:581\u001b[0m, in \u001b[0;36mBaseEstimator._validate_data\u001b[0;34m(self, X, y, reset, validate_separately, **check_params)\u001b[0m\n\u001b[1;32m    579\u001b[0m         y \u001b[38;5;241m=\u001b[39m check_array(y, \u001b[38;5;241m*\u001b[39m\u001b[38;5;241m*\u001b[39mcheck_y_params)\n\u001b[1;32m    580\u001b[0m     \u001b[38;5;28;01melse\u001b[39;00m:\n\u001b[0;32m--> 581\u001b[0m         X, y \u001b[38;5;241m=\u001b[39m \u001b[43mcheck_X_y\u001b[49m\u001b[43m(\u001b[49m\u001b[43mX\u001b[49m\u001b[43m,\u001b[49m\u001b[43m \u001b[49m\u001b[43my\u001b[49m\u001b[43m,\u001b[49m\u001b[43m \u001b[49m\u001b[38;5;241;43m*\u001b[39;49m\u001b[38;5;241;43m*\u001b[39;49m\u001b[43mcheck_params\u001b[49m\u001b[43m)\u001b[49m\n\u001b[1;32m    582\u001b[0m     out \u001b[38;5;241m=\u001b[39m X, y\n\u001b[1;32m    584\u001b[0m \u001b[38;5;28;01mif\u001b[39;00m \u001b[38;5;129;01mnot\u001b[39;00m no_val_X \u001b[38;5;129;01mand\u001b[39;00m check_params\u001b[38;5;241m.\u001b[39mget(\u001b[38;5;124m\"\u001b[39m\u001b[38;5;124mensure_2d\u001b[39m\u001b[38;5;124m\"\u001b[39m, \u001b[38;5;28;01mTrue\u001b[39;00m):\n",
      "File \u001b[0;32m~/opt/miniconda3/envs/vivenv/lib/python3.8/site-packages/sklearn/utils/validation.py:964\u001b[0m, in \u001b[0;36mcheck_X_y\u001b[0;34m(X, y, accept_sparse, accept_large_sparse, dtype, order, copy, force_all_finite, ensure_2d, allow_nd, multi_output, ensure_min_samples, ensure_min_features, y_numeric, estimator)\u001b[0m\n\u001b[1;32m    961\u001b[0m \u001b[38;5;28;01mif\u001b[39;00m y \u001b[38;5;129;01mis\u001b[39;00m \u001b[38;5;28;01mNone\u001b[39;00m:\n\u001b[1;32m    962\u001b[0m     \u001b[38;5;28;01mraise\u001b[39;00m \u001b[38;5;167;01mValueError\u001b[39;00m(\u001b[38;5;124m\"\u001b[39m\u001b[38;5;124my cannot be None\u001b[39m\u001b[38;5;124m\"\u001b[39m)\n\u001b[0;32m--> 964\u001b[0m X \u001b[38;5;241m=\u001b[39m \u001b[43mcheck_array\u001b[49m\u001b[43m(\u001b[49m\n\u001b[1;32m    965\u001b[0m \u001b[43m    \u001b[49m\u001b[43mX\u001b[49m\u001b[43m,\u001b[49m\n\u001b[1;32m    966\u001b[0m \u001b[43m    \u001b[49m\u001b[43maccept_sparse\u001b[49m\u001b[38;5;241;43m=\u001b[39;49m\u001b[43maccept_sparse\u001b[49m\u001b[43m,\u001b[49m\n\u001b[1;32m    967\u001b[0m \u001b[43m    \u001b[49m\u001b[43maccept_large_sparse\u001b[49m\u001b[38;5;241;43m=\u001b[39;49m\u001b[43maccept_large_sparse\u001b[49m\u001b[43m,\u001b[49m\n\u001b[1;32m    968\u001b[0m \u001b[43m    \u001b[49m\u001b[43mdtype\u001b[49m\u001b[38;5;241;43m=\u001b[39;49m\u001b[43mdtype\u001b[49m\u001b[43m,\u001b[49m\n\u001b[1;32m    969\u001b[0m \u001b[43m    \u001b[49m\u001b[43morder\u001b[49m\u001b[38;5;241;43m=\u001b[39;49m\u001b[43morder\u001b[49m\u001b[43m,\u001b[49m\n\u001b[1;32m    970\u001b[0m \u001b[43m    \u001b[49m\u001b[43mcopy\u001b[49m\u001b[38;5;241;43m=\u001b[39;49m\u001b[43mcopy\u001b[49m\u001b[43m,\u001b[49m\n\u001b[1;32m    971\u001b[0m \u001b[43m    \u001b[49m\u001b[43mforce_all_finite\u001b[49m\u001b[38;5;241;43m=\u001b[39;49m\u001b[43mforce_all_finite\u001b[49m\u001b[43m,\u001b[49m\n\u001b[1;32m    972\u001b[0m \u001b[43m    \u001b[49m\u001b[43mensure_2d\u001b[49m\u001b[38;5;241;43m=\u001b[39;49m\u001b[43mensure_2d\u001b[49m\u001b[43m,\u001b[49m\n\u001b[1;32m    973\u001b[0m \u001b[43m    \u001b[49m\u001b[43mallow_nd\u001b[49m\u001b[38;5;241;43m=\u001b[39;49m\u001b[43mallow_nd\u001b[49m\u001b[43m,\u001b[49m\n\u001b[1;32m    974\u001b[0m \u001b[43m    \u001b[49m\u001b[43mensure_min_samples\u001b[49m\u001b[38;5;241;43m=\u001b[39;49m\u001b[43mensure_min_samples\u001b[49m\u001b[43m,\u001b[49m\n\u001b[1;32m    975\u001b[0m \u001b[43m    \u001b[49m\u001b[43mensure_min_features\u001b[49m\u001b[38;5;241;43m=\u001b[39;49m\u001b[43mensure_min_features\u001b[49m\u001b[43m,\u001b[49m\n\u001b[1;32m    976\u001b[0m \u001b[43m    \u001b[49m\u001b[43mestimator\u001b[49m\u001b[38;5;241;43m=\u001b[39;49m\u001b[43mestimator\u001b[49m\u001b[43m,\u001b[49m\n\u001b[1;32m    977\u001b[0m \u001b[43m\u001b[49m\u001b[43m)\u001b[49m\n\u001b[1;32m    979\u001b[0m y \u001b[38;5;241m=\u001b[39m _check_y(y, multi_output\u001b[38;5;241m=\u001b[39mmulti_output, y_numeric\u001b[38;5;241m=\u001b[39my_numeric)\n\u001b[1;32m    981\u001b[0m check_consistent_length(X, y)\n",
      "File \u001b[0;32m~/opt/miniconda3/envs/vivenv/lib/python3.8/site-packages/sklearn/utils/validation.py:665\u001b[0m, in \u001b[0;36mcheck_array\u001b[0;34m(array, accept_sparse, accept_large_sparse, dtype, order, copy, force_all_finite, ensure_2d, allow_nd, ensure_min_samples, ensure_min_features, estimator)\u001b[0m\n\u001b[1;32m    662\u001b[0m                     has_pd_integer_array \u001b[38;5;241m=\u001b[39m \u001b[38;5;28;01mTrue\u001b[39;00m\n\u001b[1;32m    664\u001b[0m     \u001b[38;5;28;01mif\u001b[39;00m \u001b[38;5;28mall\u001b[39m(\u001b[38;5;28misinstance\u001b[39m(dtype, np\u001b[38;5;241m.\u001b[39mdtype) \u001b[38;5;28;01mfor\u001b[39;00m dtype \u001b[38;5;129;01min\u001b[39;00m dtypes_orig):\n\u001b[0;32m--> 665\u001b[0m         dtype_orig \u001b[38;5;241m=\u001b[39m \u001b[43mnp\u001b[49m\u001b[38;5;241;43m.\u001b[39;49m\u001b[43mresult_type\u001b[49m\u001b[43m(\u001b[49m\u001b[38;5;241;43m*\u001b[39;49m\u001b[43mdtypes_orig\u001b[49m\u001b[43m)\u001b[49m\n\u001b[1;32m    667\u001b[0m \u001b[38;5;28;01mif\u001b[39;00m dtype_numeric:\n\u001b[1;32m    668\u001b[0m     \u001b[38;5;28;01mif\u001b[39;00m dtype_orig \u001b[38;5;129;01mis\u001b[39;00m \u001b[38;5;129;01mnot\u001b[39;00m \u001b[38;5;28;01mNone\u001b[39;00m \u001b[38;5;129;01mand\u001b[39;00m dtype_orig\u001b[38;5;241m.\u001b[39mkind \u001b[38;5;241m==\u001b[39m \u001b[38;5;124m\"\u001b[39m\u001b[38;5;124mO\u001b[39m\u001b[38;5;124m\"\u001b[39m:\n\u001b[1;32m    669\u001b[0m         \u001b[38;5;66;03m# if input is object, convert to float.\u001b[39;00m\n",
      "File \u001b[0;32m<__array_function__ internals>:180\u001b[0m, in \u001b[0;36mresult_type\u001b[0;34m(*args, **kwargs)\u001b[0m\n",
      "\u001b[0;31mValueError\u001b[0m: at least one array or dtype is required"
     ]
    }
   ],
   "source": [
    "recall = []\n",
    "\n",
    "df = pd.read_csv(\"../heart_disease_health_indicators_BRFSS2015.csv\")\n",
    "x=df.drop('HeartDiseaseorAttack',axis=1)\n",
    "y = df['HeartDiseaseorAttack'] # under\n",
    "x1 = x\n",
    "out = []\n",
    "for i in range(len(features)):\n",
    "    y = df['HeartDiseaseorAttack']\n",
    "    out.append(features[i])\n",
    "    x1= x.drop(columns=out)\n",
    "    \n",
    "    print(f'ilosc features:{len(x1.columns)}')\n",
    "    sampler = RandomUnderSampler(random_state=11)\n",
    "    xtrain,x_test,ytrain,y_test = train_test_split(x1,y,random_state = 0,stratify = y)\n",
    "    x_train, y_train = sampler.fit_resample(xtrain, ytrain)\n",
    "    Tree_classifier = RandomForestClassifier(max_depth = 10,class_weight='balanced',random_state=0,)\n",
    "    Tree_classifier.fit(x_train,y_train)\n",
    "    y_pred = Tree_classifier.predict(x_test)\n",
    "    print(confusion_matrix(y_test, y_pred))\n",
    "    print(classification_report(y_test, y_pred))\n",
    "    recall.append(recall_score(y_test,y_pred))"
   ]
  },
  {
   "cell_type": "code",
   "execution_count": 186,
   "id": "1d1dbba6-ff8d-4690-b730-bfb104ddf525",
   "metadata": {},
   "outputs": [
    {
     "data": {
      "text/plain": [
       "0"
      ]
     },
     "execution_count": 186,
     "metadata": {},
     "output_type": "execute_result"
    }
   ],
   "source": [
    "osX = []\n",
    "for i in range(len(features)):\n",
    "    osX.append(i)\n",
    "\n",
    "\n",
    "osX.sort(reverse=True)\n",
    "osX.pop(-1)"
   ]
  },
  {
   "cell_type": "code",
   "execution_count": 191,
   "id": "7babec7d-28e5-4473-853c-06d6c5c98675",
   "metadata": {},
   "outputs": [
    {
     "data": {
      "image/png": "[encoded data removed]",
      "text/plain": [
       "<Figure size 432x288 with 1 Axes>"
      ]
     },
     "metadata": {
      "needs_background": "light"
     },
     "output_type": "display_data"
    }
   ],
   "source": [
    "sns.lineplot(x = osX,y=recall,palette='magma')\n",
    "plt.ylabel('Recall [%]')\n",
    "plt.xlabel('Ilość cech [od najważniejszej do najmniej ważnych]')\n",
    "plt.savefig('../Plots/Tree_Feature_recall.png')"
   ]
  },
  {
   "cell_type": "code",
   "execution_count": null,
   "id": "1ce0b189-d49b-4b1a-8959-d66cb46899c5",
   "metadata": {},
   "outputs": [],
   "source": []
  }
 ],
 "metadata": {
  "kernelspec": {
   "display_name": "Python 3 (ipykernel)",
   "language": "python",
   "name": "python3"
  },
  "language_info": {
   "codemirror_mode": {
    "name": "ipython",
    "version": 3
   },
   "file_extension": ".py",
   "mimetype": "text/x-python",
   "name": "python",
   "nbconvert_exporter": "python",
   "pygments_lexer": "ipython3",
   "version": "3.8.12"
  }
 },
 "nbformat": 4,
 "nbformat_minor": 5
}
