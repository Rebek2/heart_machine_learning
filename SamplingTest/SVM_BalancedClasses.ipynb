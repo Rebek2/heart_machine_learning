{
 "cells": [
  {
   "cell_type": "code",
   "execution_count": null,
   "id": "2f718f64-81c1-4771-a050-b692d95f5de9",
   "metadata": {},
   "outputs": [],
   "source": [
    "from sklearn import datasets\n",
    "from sklearn.model_selection import train_test_split\n",
    "from sklearn.svm import SVC\n",
    "from sklearn import svm\n",
    "from sklearn import metrics\n",
    "import pandas as pd\n",
    "from sklearn.metrics import classification_report, confusion_matrix\n",
    "from imblearn.over_sampling import SMOTE \n",
    "from imblearn.under_sampling import RandomUnderSampler\n",
    "from imblearn.over_sampling import ADASYN\n",
    "df = pd.read_csv(\"../heart_disease_health_indicators_BRFSS2015.csv\")"
   ]
  },
  {
   "cell_type": "code",
   "execution_count": null,
   "id": "ce2594c2-5a74-4b3d-b9a9-eeeb490894e2",
   "metadata": {},
   "outputs": [],
   "source": [
    "x=df.drop('HeartDiseaseorAttack',axis=1)\n",
    "y = df['HeartDiseaseorAttack']"
   ]
  },
  {
   "cell_type": "code",
   "execution_count": 7,
   "id": "39590c0a-c710-47be-9c41-a77ff0da5cb2",
   "metadata": {},
   "outputs": [],
   "source": [
    "x=df.drop('HeartDiseaseorAttack',axis=1)\n",
    "y = df['HeartDiseaseorAttack']\n",
    "xtrain,x_test,ytrain,y_test = train_test_split(x,y, stratify = y,shuffle = True,random_state = 0)\n",
    "sampler = RandomUnderSampler(random_state=11)#sprawdzic jak dokladnie dziala\n",
    "x_train, y_train = sampler.fit_resample(xtrain, ytrain)#smote,adasyn,2:1"
   ]
  },
  {
   "cell_type": "code",
   "execution_count": 8,
   "id": "af371d83-9aa0-4721-9573-e9c4377be1c3",
   "metadata": {},
   "outputs": [
    {
     "data": {
      "text/plain": [
       "SVC(C=3, class_weight='balanced', kernel='linear', random_state=0)"
      ]
     },
     "execution_count": 8,
     "metadata": {},
     "output_type": "execute_result"
    }
   ],
   "source": [
    "svclassifier = SVC(kernel = 'linear',C=3,class_weight = 'balanced',random_state = 0)\n",
    "svclassifier.fit(x_train,y_train)"
   ]
  },
  {
   "cell_type": "code",
   "execution_count": 9,
   "id": "5d9b4c9f-05f9-440e-bfcb-f1e4ffc9b786",
   "metadata": {},
   "outputs": [
    {
     "name": "stdout",
     "output_type": "stream",
     "text": [
      "[[41561 15886]\n",
      " [ 1088  4885]]\n",
      "              precision    recall  f1-score   support\n",
      "\n",
      "         0.0       0.97      0.72      0.83     57447\n",
      "         1.0       0.24      0.82      0.37      5973\n",
      "\n",
      "    accuracy                           0.73     63420\n",
      "   macro avg       0.60      0.77      0.60     63420\n",
      "weighted avg       0.90      0.73      0.79     63420\n",
      "\n"
     ]
    }
   ],
   "source": [
    "y_pred = svclassifier.predict(x_test)\n",
    "from sklearn.metrics import classification_report, confusion_matrix\n",
    "print(confusion_matrix(y_test, y_pred))\n",
    "print(classification_report(y_test, y_pred))"
   ]
  },
  {
   "cell_type": "code",
   "execution_count": 15,
   "id": "67c755f6-3828-409a-97c9-408cd3fd2d60",
   "metadata": {},
   "outputs": [
    {
     "data": {
      "image/png": "[encoded data removed]",
      "text/plain": [
       "<Figure size 432x288 with 1 Axes>"
      ]
     },
     "metadata": {
      "needs_background": "light"
     },
     "output_type": "display_data"
    }
   ],
   "source": [
    "import seaborn as sns\n",
    "import matplotlib.pyplot as plt \n",
    "from math import fabs\n",
    "danex = ['HighBP', 'HighChol', 'CholCheck', 'BMI',\n",
    "       'Smoker', 'Stroke', 'Diabetes', 'PhysActivity', 'Fruits', 'Veggies',\n",
    "       'HvyAlcoholConsump', 'AnyHealthcare', 'NoDocbcCost', 'GenHlth',\n",
    "       'MentHlth', 'PhysHlth', 'DiffWalk', 'Sex', 'Age', 'Education',\n",
    "       'Income']\n",
    "daney =svclassifier.coef_[0]\n",
    "datafr = pd.DataFrame({\"Feature\":danex,\n",
    "                      \"Value\":fabs(daney)})\n",
    "sns.barplot(x = 'Value',y='Feature', data = datafr,palette = 'magma',order=datafr.sort_values('Value',ascending = False).Feature)\n",
    "\n",
    "plt.savefig('../Plots/SVCFeature2.png')\n",
    "#wartosc bezwzgledna, poniewaz ujemne wartosci ciagna w klasyfikacje do klasy 0"
   ]
  },
  {
   "cell_type": "code",
   "execution_count": 19,
   "id": "708112a6-6db1-471a-8cc3-011aed678ea5",
   "metadata": {},
   "outputs": [
    {
     "data": {
      "text/plain": [
       "5                Stroke\n",
       "17                  Sex\n",
       "1              HighChol\n",
       "0                HighBP\n",
       "2             CholCheck\n",
       "13              GenHlth\n",
       "4                Smoker\n",
       "16             DiffWalk\n",
       "12          NoDocbcCost\n",
       "18                  Age\n",
       "6              Diabetes\n",
       "7          PhysActivity\n",
       "19            Education\n",
       "11        AnyHealthcare\n",
       "14             MentHlth\n",
       "9               Veggies\n",
       "15             PhysHlth\n",
       "8                Fruits\n",
       "3                   BMI\n",
       "20               Income\n",
       "10    HvyAlcoholConsump\n",
       "Name: Feature, dtype: object"
      ]
     },
     "execution_count": 19,
     "metadata": {},
     "output_type": "execute_result"
    }
   ],
   "source": [
    "order=datafr.sort_values('Value',ascending = False).Feature\n",
    "order"
   ]
  },
  {
   "cell_type": "code",
   "execution_count": null,
   "id": "3adc594b-305f-486b-b222-d405612d39a7",
   "metadata": {},
   "outputs": [],
   "source": []
  },
  {
   "cell_type": "code",
   "execution_count": null,
   "id": "55df9a3e-5b02-4f47-b4aa-bdb77ac1c325",
   "metadata": {},
   "outputs": [],
   "source": []
  },
  {
   "cell_type": "code",
   "execution_count": 22,
   "id": "38e87074-f5e2-40cc-9e75-f47ef796f976",
   "metadata": {},
   "outputs": [],
   "source": [
    "sm = SMOTE(random_state=42)\n",
    "xtrain,x_test,ytrain,y_test = train_test_split(x,y,random_state=0,stratify =y,shuffle = True)\n",
    "x_train, y_train = sm.fit_resample(xtrain, ytrain)"
   ]
  },
  {
   "cell_type": "code",
   "execution_count": null,
   "id": "0ce22ec3-cc83-4fc8-9a03-07b9046efd28",
   "metadata": {},
   "outputs": [],
   "source": [
    "svclassifier = SVC(kernel = 'linear',C=3,class_weight = 'balanced',random_state = 0)\n",
    "svclassifier.fit(x_train,y_train)\n",
    "y_pred = svclassifier.predict(x_test)\n",
    "from sklearn.metrics import classification_report, confusion_matrix\n",
    "print(confusion_matrix(y_test, y_pred))\n",
    "print(classification_report(y_test, y_pred))"
   ]
  },
  {
   "cell_type": "code",
   "execution_count": null,
   "id": "62e4ba49-670d-4cbb-83f0-e7d4cbf1c722",
   "metadata": {},
   "outputs": [],
   "source": [
    "adasyn = ADASYN()\n",
    "xtrain,x_test,ytrain,y_test = train_test_split(x,y,random_state=0,shuffle = True,stratify = y)\n",
    "x_train, y_train = adasyn.fit_resample(xtrain, ytrain)"
   ]
  },
  {
   "cell_type": "code",
   "execution_count": null,
   "id": "3fef05a5-f87d-4b31-8d45-a28beb7de15a",
   "metadata": {},
   "outputs": [],
   "source": [
    "svclassifier = SVC(kernel = 'linear',C=3,class_weight = 'balanced',random_state = 0)\n",
    "svclassifier.fit(x_train,y_train)\n",
    "y_pred = svclassifier.predict(x_test)\n",
    "from sklearn.metrics import classification_report, confusion_matrix\n",
    "print(confusion_matrix(y_test, y_pred))\n",
    "print(classification_report(y_test, y_pred))"
   ]
  },
  {
   "cell_type": "code",
   "execution_count": null,
   "id": "772d2e7d-2a52-4ceb-bc71-817a04da2425",
   "metadata": {},
   "outputs": [],
   "source": []
  },
  {
   "cell_type": "code",
   "execution_count": null,
   "id": "d9467ee9-a73e-43f5-ab83-bf75c2f9077a",
   "metadata": {},
   "outputs": [],
   "source": [
    "recall = []\n",
    "\n",
    "df = pd.read_csv(\"../heart_disease_health_indicators_BRFSS2015.csv\")\n",
    "x=df.drop('HeartDiseaseorAttack',axis=1)\n",
    "y = df['HeartDiseaseorAttack'] # under\n",
    "x1 = x\n",
    "out = []\n",
    "for i in range(len(features)):\n",
    "    y = df['HeartDiseaseorAttack']\n",
    "    out.append(features[i])\n",
    "    x1= x.drop(columns=out)\n",
    "    \n",
    "    print(f'ilosc features:{len(x1.columns)}')\n",
    "    sampler = RandomUnderSampler(random_state=11)\n",
    "    xtrain,x_test,ytrain,y_test = train_test_split(x1,y,random_state = 0,stratify = y)\n",
    "    x_train, y_train = sampler.fit_resample(xtrain, ytrain)\n",
    "    svclassifier = SVC(kernel = 'linear',C=3,class_weight = 'balanced',random_state = 0)\n",
    "    svclassifier.fit(x_train,y_train)\n",
    "    y_pred = Tree_classifier.predict(x_test)\n",
    "    print(confusion_matrix(y_test, y_pred))\n",
    "    print(classification_report(y_test, y_pred))\n",
    "    recall.append(recall_score(y_test,y_pred))"
   ]
  },
  {
   "cell_type": "code",
   "execution_count": null,
   "id": "dd953c5d-c800-42c7-b7c2-41bcd2e103a6",
   "metadata": {},
   "outputs": [],
   "source": [
    "osX = []\n",
    "for i in range(len(features)):\n",
    "    osX.append(i)\n",
    "\n",
    "\n",
    "osX.sort(reverse=True)\n",
    "osX.pop(-1)\n",
    "\n",
    "sns.lineplot(x = osX,y=recall,palette='magma')\n",
    "plt.ylabel('Recall [%]')\n",
    "plt.xlabel('Ilość cech [od najważniejszej do najmniej ważnych]')\n",
    "plt.savefig('../Plots/SVC_Feature_recall.png')"
   ]
  },
  {
   "cell_type": "code",
   "execution_count": null,
   "id": "d6b0b038-f1ee-4218-bedb-72a48a9cc57c",
   "metadata": {},
   "outputs": [],
   "source": []
  }
 ],
 "metadata": {
  "kernelspec": {
   "display_name": "Python 3 (ipykernel)",
   "language": "python",
   "name": "python3"
  },
  "language_info": {
   "codemirror_mode": {
    "name": "ipython",
    "version": 3
   },
   "file_extension": ".py",
   "mimetype": "text/x-python",
   "name": "python",
   "nbconvert_exporter": "python",
   "pygments_lexer": "ipython3",
   "version": "3.8.12"
  }
 },
 "nbformat": 4,
 "nbformat_minor": 5
}
