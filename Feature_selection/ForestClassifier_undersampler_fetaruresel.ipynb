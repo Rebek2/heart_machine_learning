{
 "cells": [
  {
   "cell_type": "code",
   "execution_count": 6,
   "id": "73e5b0d5-0bfc-4ae1-8623-eaef5c32b17b",
   "metadata": {},
   "outputs": [],
   "source": [
    "from sklearn import datasets\n",
    "from sklearn.model_selection import train_test_split\n",
    "from imblearn.over_sampling import SMOTE \n",
    "from sklearn.ensemble import RandomForestClassifier\n",
    "from sklearn import metrics\n",
    "import pandas as pd\n",
    "from imblearn.under_sampling import RandomUnderSampler\n",
    "from imblearn.over_sampling import ADASYN\n",
    "from sklearn.metrics import classification_report, confusion_matrix,recall_score \n",
    "df = pd.read_csv(\"../heart_disease_health_indicators_BRFSS2015.csv\")"
   ]
  },
  {
   "cell_type": "code",
   "execution_count": 7,
   "id": "3188ec42-80fc-4ba2-9f51-f3eca181b92a",
   "metadata": {},
   "outputs": [],
   "source": [
    "x=df.drop('HeartDiseaseorAttack',axis=1)\n",
    "y = df['HeartDiseaseorAttack'] # under"
   ]
  },
  {
   "cell_type": "code",
   "execution_count": 8,
   "id": "0100e4b0-f860-4ebd-aba8-c79fb99dacef",
   "metadata": {},
   "outputs": [],
   "source": [
    "xtrain,x_test,ytrain,y_test = train_test_split(x,y,random_state = 0,stratify = y)\n",
    "sampler = RandomUnderSampler(random_state=11)\n",
    "x_train, y_train = sampler.fit_resample(xtrain, ytrain)"
   ]
  },
  {
   "cell_type": "code",
   "execution_count": 9,
   "id": "98e826e3-20b7-4ee5-8d76-d0cf7092ac93",
   "metadata": {},
   "outputs": [
    {
     "data": {
      "text/plain": [
       "RandomForestClassifier(class_weight='balanced', max_depth=10, random_state=0)"
      ]
     },
     "execution_count": 9,
     "metadata": {},
     "output_type": "execute_result"
    }
   ],
   "source": [
    "Tree_classifier = RandomForestClassifier(max_depth = 10,class_weight='balanced',random_state=0,)\n",
    "Tree_classifier.fit(x_train,y_train)"
   ]
  },
  {
   "cell_type": "code",
   "execution_count": 10,
   "id": "3605132f-e333-4533-bc01-be132f472449",
   "metadata": {},
   "outputs": [
    {
     "name": "stdout",
     "output_type": "stream",
     "text": [
      "[[41000 16447]\n",
      " [ 1007  4966]]\n",
      "              precision    recall  f1-score   support\n",
      "\n",
      "         0.0       0.98      0.71      0.82     57447\n",
      "         1.0       0.23      0.83      0.36      5973\n",
      "\n",
      "    accuracy                           0.72     63420\n",
      "   macro avg       0.60      0.77      0.59     63420\n",
      "weighted avg       0.91      0.72      0.78     63420\n",
      "\n"
     ]
    }
   ],
   "source": [
    "y_pred = Tree_classifier.predict(x_test)\n",
    "print(confusion_matrix(y_test, y_pred))\n",
    "print(classification_report(y_test, y_pred))"
   ]
  },
  {
   "cell_type": "code",
   "execution_count": 11,
   "id": "3279a9e7-e09c-4519-868b-f2002989feef",
   "metadata": {},
   "outputs": [
    {
     "data": {
      "text/plain": [
       "0.831408002678721"
      ]
     },
     "execution_count": 11,
     "metadata": {},
     "output_type": "execute_result"
    }
   ],
   "source": [
    "recall_score(y_test,y_pred)"
   ]
  },
  {
   "cell_type": "code",
   "execution_count": null,
   "id": "bc42d02d-5d82-4070-80ff-5083dd2c7fd2",
   "metadata": {},
   "outputs": [],
   "source": []
  },
  {
   "cell_type": "code",
   "execution_count": 12,
   "id": "e861699a-3ec1-462d-bc2d-d6a26e6f92f6",
   "metadata": {},
   "outputs": [],
   "source": [
    "import seaborn as sns\n",
    "import matplotlib.pyplot as plt \n",
    "danex = ['HighBP', 'HighChol', 'CholCheck', 'BMI',\n",
    "       'Smoker', 'Stroke', 'Diabetes', 'PhysActivity', 'Fruits', 'Veggies',\n",
    "       'HvyAlcoholConsump', 'AnyHealthcare', 'NoDocbcCost', 'GenHlth',\n",
    "       'MentHlth', 'PhysHlth', 'DiffWalk', 'Sex', 'Age', 'Education',\n",
    "       'Income']\n",
    "daney = Tree_classifier.feature_importances_"
   ]
  },
  {
   "cell_type": "code",
   "execution_count": 13,
   "id": "2c634f9a-8c74-412f-a563-5ccaf9cf5b96",
   "metadata": {},
   "outputs": [],
   "source": [
    "datafr = pd.DataFrame({\"Feature\":danex,\n",
    "                      \"Value\":daney})"
   ]
  },
  {
   "cell_type": "code",
   "execution_count": 14,
   "id": "8b0f2f40-a772-48f7-8750-222e0127e56a",
   "metadata": {},
   "outputs": [
    {
     "data": {
      "image/png": "[encoded data removed]",
      "text/plain": [
       "<Figure size 432x288 with 1 Axes>"
      ]
     },
     "metadata": {
      "needs_background": "light"
     },
     "output_type": "display_data"
    }
   ],
   "source": [
    "sns.barplot(x = 'Value',y='Feature', data = datafr,palette = 'magma',order=datafr.sort_values('Value',ascending = False).Feature)\n",
    "\n",
    "plt.savefig('../Plots/TreeFeature2.png')"
   ]
  },
  {
   "cell_type": "code",
   "execution_count": 15,
   "id": "f372aefc-1db6-4f61-8a84-8b366c39e813",
   "metadata": {},
   "outputs": [],
   "source": [
    "f = datafr.sort_values('Value',ascending = True).Feature\n"
   ]
  },
  {
   "cell_type": "code",
   "execution_count": 16,
   "id": "97202d2f-ae54-44a3-a9ec-d75c20925aff",
   "metadata": {},
   "outputs": [
    {
     "data": {
      "text/plain": [
       "['HvyAlcoholConsump',\n",
       " 'AnyHealthcare',\n",
       " 'CholCheck',\n",
       " 'NoDocbcCost',\n",
       " 'Veggies',\n",
       " 'Fruits',\n",
       " 'PhysActivity',\n",
       " 'MentHlth',\n",
       " 'Education',\n",
       " 'Smoker',\n",
       " 'BMI',\n",
       " 'Income',\n",
       " 'Diabetes',\n",
       " 'Sex',\n",
       " 'Stroke',\n",
       " 'PhysHlth',\n",
       " 'DiffWalk',\n",
       " 'HighChol',\n",
       " 'HighBP',\n",
       " 'GenHlth',\n",
       " 'Age']"
      ]
     },
     "execution_count": 16,
     "metadata": {},
     "output_type": "execute_result"
    }
   ],
   "source": [
    "features = []\n",
    "for i in f:\n",
    "    features.append(i)\n",
    "features"
   ]
  },
  {
   "cell_type": "code",
   "execution_count": 17,
   "id": "2e1fcdfd-da55-46b4-8d30-717a3c28c31d",
   "metadata": {},
   "outputs": [
    {
     "name": "stdout",
     "output_type": "stream",
     "text": [
      "ilosc features:21\n",
      "[[41000 16447]\n",
      " [ 1007  4966]]\n",
      "              precision    recall  f1-score   support\n",
      "\n",
      "         0.0       0.98      0.71      0.82     57447\n",
      "         1.0       0.23      0.83      0.36      5973\n",
      "\n",
      "    accuracy                           0.72     63420\n",
      "   macro avg       0.60      0.77      0.59     63420\n",
      "weighted avg       0.91      0.72      0.78     63420\n",
      "\n",
      "ilosc features:20\n",
      "[[40995 16452]\n",
      " [ 1037  4936]]\n",
      "              precision    recall  f1-score   support\n",
      "\n",
      "         0.0       0.98      0.71      0.82     57447\n",
      "         1.0       0.23      0.83      0.36      5973\n",
      "\n",
      "    accuracy                           0.72     63420\n",
      "   macro avg       0.60      0.77      0.59     63420\n",
      "weighted avg       0.91      0.72      0.78     63420\n",
      "\n",
      "ilosc features:19\n",
      "[[40795 16652]\n",
      " [  994  4979]]\n",
      "              precision    recall  f1-score   support\n",
      "\n",
      "         0.0       0.98      0.71      0.82     57447\n",
      "         1.0       0.23      0.83      0.36      5973\n",
      "\n",
      "    accuracy                           0.72     63420\n",
      "   macro avg       0.60      0.77      0.59     63420\n",
      "weighted avg       0.91      0.72      0.78     63420\n",
      "\n",
      "ilosc features:18\n",
      "[[40930 16517]\n",
      " [ 1010  4963]]\n",
      "              precision    recall  f1-score   support\n",
      "\n",
      "         0.0       0.98      0.71      0.82     57447\n",
      "         1.0       0.23      0.83      0.36      5973\n",
      "\n",
      "    accuracy                           0.72     63420\n",
      "   macro avg       0.60      0.77      0.59     63420\n",
      "weighted avg       0.91      0.72      0.78     63420\n",
      "\n",
      "ilosc features:17\n",
      "[[40726 16721]\n",
      " [ 1016  4957]]\n",
      "              precision    recall  f1-score   support\n",
      "\n",
      "         0.0       0.98      0.71      0.82     57447\n",
      "         1.0       0.23      0.83      0.36      5973\n",
      "\n",
      "    accuracy                           0.72     63420\n",
      "   macro avg       0.60      0.77      0.59     63420\n",
      "weighted avg       0.91      0.72      0.78     63420\n",
      "\n",
      "ilosc features:16\n",
      "[[40716 16731]\n",
      " [ 1012  4961]]\n",
      "              precision    recall  f1-score   support\n",
      "\n",
      "         0.0       0.98      0.71      0.82     57447\n",
      "         1.0       0.23      0.83      0.36      5973\n",
      "\n",
      "    accuracy                           0.72     63420\n",
      "   macro avg       0.60      0.77      0.59     63420\n",
      "weighted avg       0.91      0.72      0.78     63420\n",
      "\n",
      "ilosc features:15\n",
      "[[40992 16455]\n",
      " [ 1027  4946]]\n",
      "              precision    recall  f1-score   support\n",
      "\n",
      "         0.0       0.98      0.71      0.82     57447\n",
      "         1.0       0.23      0.83      0.36      5973\n",
      "\n",
      "    accuracy                           0.72     63420\n",
      "   macro avg       0.60      0.77      0.59     63420\n",
      "weighted avg       0.91      0.72      0.78     63420\n",
      "\n",
      "ilosc features:14\n",
      "[[40781 16666]\n",
      " [ 1021  4952]]\n",
      "              precision    recall  f1-score   support\n",
      "\n",
      "         0.0       0.98      0.71      0.82     57447\n",
      "         1.0       0.23      0.83      0.36      5973\n",
      "\n",
      "    accuracy                           0.72     63420\n",
      "   macro avg       0.60      0.77      0.59     63420\n",
      "weighted avg       0.91      0.72      0.78     63420\n",
      "\n",
      "ilosc features:13\n",
      "[[40865 16582]\n",
      " [ 1032  4941]]\n",
      "              precision    recall  f1-score   support\n",
      "\n",
      "         0.0       0.98      0.71      0.82     57447\n",
      "         1.0       0.23      0.83      0.36      5973\n",
      "\n",
      "    accuracy                           0.72     63420\n",
      "   macro avg       0.60      0.77      0.59     63420\n",
      "weighted avg       0.91      0.72      0.78     63420\n",
      "\n",
      "ilosc features:12\n",
      "[[40841 16606]\n",
      " [ 1021  4952]]\n",
      "              precision    recall  f1-score   support\n",
      "\n",
      "         0.0       0.98      0.71      0.82     57447\n",
      "         1.0       0.23      0.83      0.36      5973\n",
      "\n",
      "    accuracy                           0.72     63420\n",
      "   macro avg       0.60      0.77      0.59     63420\n",
      "weighted avg       0.91      0.72      0.78     63420\n",
      "\n",
      "ilosc features:11\n",
      "[[40714 16733]\n",
      " [ 1026  4947]]\n",
      "              precision    recall  f1-score   support\n",
      "\n",
      "         0.0       0.98      0.71      0.82     57447\n",
      "         1.0       0.23      0.83      0.36      5973\n",
      "\n",
      "    accuracy                           0.72     63420\n",
      "   macro avg       0.60      0.77      0.59     63420\n",
      "weighted avg       0.91      0.72      0.78     63420\n",
      "\n",
      "ilosc features:10\n",
      "[[40794 16653]\n",
      " [ 1036  4937]]\n",
      "              precision    recall  f1-score   support\n",
      "\n",
      "         0.0       0.98      0.71      0.82     57447\n",
      "         1.0       0.23      0.83      0.36      5973\n",
      "\n",
      "    accuracy                           0.72     63420\n",
      "   macro avg       0.60      0.77      0.59     63420\n",
      "weighted avg       0.90      0.72      0.78     63420\n",
      "\n",
      "ilosc features:9\n",
      "[[40899 16548]\n",
      " [ 1073  4900]]\n",
      "              precision    recall  f1-score   support\n",
      "\n",
      "         0.0       0.97      0.71      0.82     57447\n",
      "         1.0       0.23      0.82      0.36      5973\n",
      "\n",
      "    accuracy                           0.72     63420\n",
      "   macro avg       0.60      0.77      0.59     63420\n",
      "weighted avg       0.90      0.72      0.78     63420\n",
      "\n",
      "ilosc features:8\n",
      "[[40629 16818]\n",
      " [ 1056  4917]]\n",
      "              precision    recall  f1-score   support\n",
      "\n",
      "         0.0       0.97      0.71      0.82     57447\n",
      "         1.0       0.23      0.82      0.35      5973\n",
      "\n",
      "    accuracy                           0.72     63420\n",
      "   macro avg       0.60      0.77      0.59     63420\n",
      "weighted avg       0.90      0.72      0.78     63420\n",
      "\n",
      "ilosc features:7\n",
      "[[39778 17669]\n",
      " [ 1073  4900]]\n",
      "              precision    recall  f1-score   support\n",
      "\n",
      "         0.0       0.97      0.69      0.81     57447\n",
      "         1.0       0.22      0.82      0.34      5973\n",
      "\n",
      "    accuracy                           0.70     63420\n",
      "   macro avg       0.60      0.76      0.58     63420\n",
      "weighted avg       0.90      0.70      0.77     63420\n",
      "\n",
      "ilosc features:6\n",
      "[[39573 17874]\n",
      " [ 1109  4864]]\n",
      "              precision    recall  f1-score   support\n",
      "\n",
      "         0.0       0.97      0.69      0.81     57447\n",
      "         1.0       0.21      0.81      0.34      5973\n",
      "\n",
      "    accuracy                           0.70     63420\n",
      "   macro avg       0.59      0.75      0.57     63420\n",
      "weighted avg       0.90      0.70      0.76     63420\n",
      "\n",
      "ilosc features:5\n",
      "[[40194 17253]\n",
      " [ 1177  4796]]\n",
      "              precision    recall  f1-score   support\n",
      "\n",
      "         0.0       0.97      0.70      0.81     57447\n",
      "         1.0       0.22      0.80      0.34      5973\n",
      "\n",
      "    accuracy                           0.71     63420\n",
      "   macro avg       0.59      0.75      0.58     63420\n",
      "weighted avg       0.90      0.71      0.77     63420\n",
      "\n",
      "ilosc features:4\n",
      "[[39584 17863]\n",
      " [ 1126  4847]]\n",
      "              precision    recall  f1-score   support\n",
      "\n",
      "         0.0       0.97      0.69      0.81     57447\n",
      "         1.0       0.21      0.81      0.34      5973\n",
      "\n",
      "    accuracy                           0.70     63420\n",
      "   macro avg       0.59      0.75      0.57     63420\n",
      "weighted avg       0.90      0.70      0.76     63420\n",
      "\n",
      "ilosc features:3\n",
      "[[39702 17745]\n",
      " [ 1214  4759]]\n",
      "              precision    recall  f1-score   support\n",
      "\n",
      "         0.0       0.97      0.69      0.81     57447\n",
      "         1.0       0.21      0.80      0.33      5973\n",
      "\n",
      "    accuracy                           0.70     63420\n",
      "   macro avg       0.59      0.74      0.57     63420\n",
      "weighted avg       0.90      0.70      0.76     63420\n",
      "\n",
      "ilosc features:2\n",
      "[[37799 19648]\n",
      " [ 1137  4836]]\n",
      "              precision    recall  f1-score   support\n",
      "\n",
      "         0.0       0.97      0.66      0.78     57447\n",
      "         1.0       0.20      0.81      0.32      5973\n",
      "\n",
      "    accuracy                           0.67     63420\n",
      "   macro avg       0.58      0.73      0.55     63420\n",
      "weighted avg       0.90      0.67      0.74     63420\n",
      "\n",
      "ilosc features:1\n",
      "[[31520 25927]\n",
      " [ 1247  4726]]\n",
      "              precision    recall  f1-score   support\n",
      "\n",
      "         0.0       0.96      0.55      0.70     57447\n",
      "         1.0       0.15      0.79      0.26      5973\n",
      "\n",
      "    accuracy                           0.57     63420\n",
      "   macro avg       0.56      0.67      0.48     63420\n",
      "weighted avg       0.89      0.57      0.66     63420\n",
      "\n"
     ]
    }
   ],
   "source": [
    "recall = []\n",
    "\n",
    "df = pd.read_csv(\"../heart_disease_health_indicators_BRFSS2015.csv\")\n",
    "x=df.drop('HeartDiseaseorAttack',axis=1)\n",
    "y = df['HeartDiseaseorAttack'] # under\n",
    "x1 = x\n",
    "specifit = []\n",
    "out=[]\n",
    "avg = []\n",
    "for i in range(len(features)):\n",
    "    y = df['HeartDiseaseorAttack']\n",
    "    print(f'ilosc features:{len(x1.columns)}')\n",
    "    sampler = RandomUnderSampler(random_state=11)\n",
    "    xtrain,x_test,ytrain,y_test = train_test_split(x1,y,random_state = 0,stratify = y)\n",
    "    x_train, y_train = sampler.fit_resample(xtrain, ytrain)\n",
    "    Tree_classifier = RandomForestClassifier(max_depth = 10,class_weight='balanced',random_state=0,)\n",
    "    Tree_classifier.fit(x_train,y_train)\n",
    "    y_pred = Tree_classifier.predict(x_test)\n",
    "    tn, fp, fn, tp = confusion_matrix(y_test, y_pred).ravel()\n",
    "    specificity = tn / (tn+fp)\n",
    "    specifit.append(specificity)\n",
    "    print(confusion_matrix(y_test, y_pred))\n",
    "    print(classification_report(y_test, y_pred))\n",
    "    rec = recall_score(y_test,y_pred)\n",
    "    av= (rec+ specificity) / 2\n",
    "    avg.append(av)\n",
    "    recall.append(rec)\n",
    "    out.append(features[i])\n",
    "    x1= x.drop(columns=out)"
   ]
  },
  {
   "cell_type": "code",
   "execution_count": 19,
   "id": "1d1dbba6-ff8d-4690-b730-bfb104ddf525",
   "metadata": {},
   "outputs": [],
   "source": [
    "osX = []\n",
    "for i in range(len(features)):\n",
    "    osX.append(i)\n",
    "\n",
    "\n",
    "osX.sort(reverse=True)\n"
   ]
  },
  {
   "cell_type": "code",
   "execution_count": 35,
   "id": "7babec7d-28e5-4473-853c-06d6c5c98675",
   "metadata": {},
   "outputs": [
    {
     "ename": "TypeError",
     "evalue": "refline() missing 1 required positional argument: 'self'",
     "output_type": "error",
     "traceback": [
      "\u001b[0;31m---------------------------------------------------------------------------\u001b[0m",
      "\u001b[0;31mTypeError\u001b[0m                                 Traceback (most recent call last)",
      "Input \u001b[0;32mIn [35]\u001b[0m, in \u001b[0;36m<cell line: 5>\u001b[0;34m()\u001b[0m\n\u001b[1;32m      3\u001b[0m sns\u001b[38;5;241m.\u001b[39mlineplot(x \u001b[38;5;241m=\u001b[39m osX,y\u001b[38;5;241m=\u001b[39mrecall,palette\u001b[38;5;241m=\u001b[39m\u001b[38;5;124m'\u001b[39m\u001b[38;5;124mmagma\u001b[39m\u001b[38;5;124m'\u001b[39m)\n\u001b[1;32m      4\u001b[0m sns\u001b[38;5;241m.\u001b[39mlineplot(x \u001b[38;5;241m=\u001b[39m osX,y\u001b[38;5;241m=\u001b[39mspecifit,palette \u001b[38;5;241m=\u001b[39m \u001b[38;5;124m'\u001b[39m\u001b[38;5;124mmagma\u001b[39m\u001b[38;5;124m'\u001b[39m)\n\u001b[0;32m----> 5\u001b[0m \u001b[43msns\u001b[49m\u001b[38;5;241;43m.\u001b[39;49m\u001b[43mFacetGrid\u001b[49m\u001b[38;5;241;43m.\u001b[39;49m\u001b[43mrefline\u001b[49m\u001b[43m(\u001b[49m\u001b[43mx\u001b[49m\u001b[38;5;241;43m=\u001b[39;49m\u001b[38;5;241;43m8\u001b[39;49m\u001b[43m)\u001b[49m\n\u001b[1;32m      6\u001b[0m plt\u001b[38;5;241m.\u001b[39mlegend([\u001b[38;5;124m'\u001b[39m\u001b[38;5;124mCzułość\u001b[39m\u001b[38;5;124m'\u001b[39m,\u001b[38;5;124m'\u001b[39m\u001b[38;5;124mSpecyficzność\u001b[39m\u001b[38;5;124m'\u001b[39m])\n\u001b[1;32m      7\u001b[0m plt\u001b[38;5;241m.\u001b[39mylabel(\u001b[38;5;124m'\u001b[39m\u001b[38;5;124mRecall/Specifity [\u001b[39m\u001b[38;5;124m%\u001b[39m\u001b[38;5;124m]\u001b[39m\u001b[38;5;124m'\u001b[39m)\n",
      "\u001b[0;31mTypeError\u001b[0m: refline() missing 1 required positional argument: 'self'"
     ]
    },
    {
     "data": {
      "image/png": "[encoded data removed]",
      "text/plain": [
       "<Figure size 432x288 with 1 Axes>"
      ]
     },
     "metadata": {
      "needs_background": "light"
     },
     "output_type": "display_data"
    }
   ],
   "source": [
    "fig, ax = plt.subplots()\n",
    "ax.set_xticks(range(1,21))\n",
    "sns.lineplot(x = osX,y=recall,palette='magma')\n",
    "sns.lineplot(x = osX,y=specifit,palette = 'magma')\n",
    "sns.FacetGrid.refline(x=8)\n",
    "plt.legend(['Czułość','Specyficzność'])\n",
    "plt.ylabel('Recall/Specifity [%]')\n",
    "plt.xlabel('Ilość cech [od najważniejszej do najmniej ważnych]')\n",
    "plt.savefig('../Plots/Tree_Feature_recall.png')"
   ]
  },
  {
   "cell_type": "code",
   "execution_count": 25,
   "id": "c1db13f0-0230-4abc-9371-2b7a99869165",
   "metadata": {},
   "outputs": [
    {
     "data": {
      "image/png": "[encoded data removed]",
      "text/plain": [
       "<Figure size 432x288 with 1 Axes>"
      ]
     },
     "metadata": {
      "needs_background": "light"
     },
     "output_type": "display_data"
    }
   ],
   "source": [
    "fig, ax = plt.subplots()\n",
    "ax.set_xticks(range(1,21))\n",
    "sns.lineplot(x = osX,y=avg,palette='magma')\n",
    "plt.ylabel('Średnia specyficzność i czułość')\n",
    "plt.xlabel('Ilość cech [od najważniejszej do najmniej ważnych]')\n",
    "plt.savefig('../Plots/Tree_Feature_recall_avg.png')"
   ]
  },
  {
   "cell_type": "code",
   "execution_count": 15,
   "id": "1ce0b189-d49b-4b1a-8959-d66cb46899c5",
   "metadata": {},
   "outputs": [],
   "source": [
    "#specyficznosc- znalezc funkcje albo napisac dla klasy 0 a recall(czulosc) dla 1\n",
    "#2 krzywe dla klasy 0 i 1\n",
    "#ten zbior ktory wybierzemy jest optymalny dla wszystkich klasyfikatorow\n",
    "#czulosc specyficznosc robimy srednia i wykres, zrobic roznice jak nie beda sie przecinac\n",
    "#przedstawienie np heatmapy, macierrzy itd na stronie.\n",
    "#f1-score dodatkowo \n",
    "#krzywa roc\n",
    "#AUC do kazdej liczby cech pole pod krzywą roc mowi o mocy klasyfikatora dla danych\n",
    "#krzywa roc ostateczne wyniki dla foresta dla najlepszej cechy(prawdopodobienstwa)\n",
    "#jak wyznaczyc (predict_proba) prog klasyfikacji mozna zmienic, \n",
    "\n",
    "\n",
    "\n",
    "\n",
    "\n"
   ]
  },
  {
   "cell_type": "code",
   "execution_count": 27,
   "id": "adeee899-2a18-4004-9371-acb876bd659d",
   "metadata": {},
   "outputs": [],
   "source": [
    "diff = []\n",
    "for i in range(len(recall)):\n",
    "    difference = recall[i] - specifit[i]\n",
    "    diff.append(difference)"
   ]
  },
  {
   "cell_type": "code",
   "execution_count": 29,
   "id": "1564040f-947f-47d6-ad4d-b7a208182926",
   "metadata": {},
   "outputs": [
    {
     "data": {
      "image/png": "[encoded data removed]",
      "text/plain": [
       "<Figure size 432x288 with 1 Axes>"
      ]
     },
     "metadata": {
      "needs_background": "light"
     },
     "output_type": "display_data"
    }
   ],
   "source": [
    "\n",
    "sns.pointplot(x = osX,y=diff,palette='magma')\n",
    "plt.legend(['Różnica między recall a specyficznością'])\n",
    "plt.ylabel('Difference')\n",
    "plt.xlabel('Ilość cech [od najważniejszej do najmniej ważnych]')\n",
    "plt.savefig('../Plots/Tree_Feature_recall_spec_difference.png')"
   ]
  },
  {
   "cell_type": "code",
   "execution_count": 87,
   "id": "567dd7f2-7cef-4089-8e49-b0dcdf3c7c11",
   "metadata": {},
   "outputs": [],
   "source": [
    "xtrain,x_test,ytrain,y_test = train_test_split(x,y,random_state = 0,stratify = y)\n",
    "sampler = RandomUnderSampler(random_state=11)\n",
    "x_train, y_train = sampler.fit_resample(xtrain, ytrain)"
   ]
  },
  {
   "cell_type": "code",
   "execution_count": 88,
   "id": "dd22ff00-2bd9-40f0-95a1-69dc80f6c2ee",
   "metadata": {},
   "outputs": [
    {
     "data": {
      "text/plain": [
       "RandomForestClassifier(class_weight='balanced', max_depth=10, random_state=0)"
      ]
     },
     "execution_count": 88,
     "metadata": {},
     "output_type": "execute_result"
    }
   ],
   "source": [
    "Tree_classifier = RandomForestClassifier(max_depth = 10,class_weight='balanced',random_state=0,)\n",
    "Tree_classifier.fit(x_train,y_train)"
   ]
  },
  {
   "cell_type": "code",
   "execution_count": 56,
   "id": "e57a7605-d8d9-48af-8782-52e001935bdb",
   "metadata": {},
   "outputs": [],
   "source": [
    "y_pred = Tree_classifier.predict(x_test)"
   ]
  },
  {
   "cell_type": "code",
   "execution_count": 45,
   "id": "e3029d3d-e32d-417a-a139-1102631ead6f",
   "metadata": {},
   "outputs": [
    {
     "data": {
      "text/plain": [
       "<sklearn.metrics._plot.roc_curve.RocCurveDisplay at 0x7fa537def790>"
      ]
     },
     "execution_count": 45,
     "metadata": {},
     "output_type": "execute_result"
    },
    {
     "data": {
      "image/png": "[encoded data removed]",
      "text/plain": [
       "<Figure size 432x288 with 1 Axes>"
      ]
     },
     "metadata": {
      "needs_background": "light"
     },
     "output_type": "display_data"
    }
   ],
   "source": [
    "metrics.RocCurveDisplay.from_estimator(Tree_classifier, x_test, y_test)"
   ]
  },
  {
   "cell_type": "code",
   "execution_count": 21,
   "id": "6d92c114-ed5f-4f67-a0a3-529010b56d6d",
   "metadata": {},
   "outputs": [
    {
     "data": {
      "text/plain": [
       "array([1., 1., 0., ..., 1., 0., 0.])"
      ]
     },
     "execution_count": 21,
     "metadata": {},
     "output_type": "execute_result"
    }
   ],
   "source": [
    "y_pred"
   ]
  },
  {
   "cell_type": "code",
   "execution_count": 90,
   "id": "6dfba64c-557c-4416-93ef-f03727a502c1",
   "metadata": {},
   "outputs": [
    {
     "ename": "ValueError",
     "evalue": "y should be a 1d array, got an array of shape (63420, 2) instead.",
     "output_type": "error",
     "traceback": [
      "\u001b[0;31m---------------------------------------------------------------------------\u001b[0m",
      "\u001b[0;31mValueError\u001b[0m                                Traceback (most recent call last)",
      "Input \u001b[0;32mIn [90]\u001b[0m, in \u001b[0;36m<cell line: 1>\u001b[0;34m()\u001b[0m\n\u001b[0;32m----> 1\u001b[0m fpr, tpr, _ \u001b[38;5;241m=\u001b[39m \u001b[43mmetrics\u001b[49m\u001b[38;5;241;43m.\u001b[39;49m\u001b[43mroc_curve\u001b[49m\u001b[43m(\u001b[49m\u001b[43my_test\u001b[49m\u001b[43m,\u001b[49m\u001b[43m  \u001b[49m\u001b[43my_pred\u001b[49m\u001b[43m)\u001b[49m\n\u001b[1;32m      2\u001b[0m auc \u001b[38;5;241m=\u001b[39m metrics\u001b[38;5;241m.\u001b[39mroc_auc_score(y_test, y_pred)\n\u001b[1;32m      4\u001b[0m \u001b[38;5;66;03m#create ROC curve\u001b[39;00m\n",
      "File \u001b[0;32m~/opt/miniconda3/envs/vivenv/lib/python3.8/site-packages/sklearn/metrics/_ranking.py:962\u001b[0m, in \u001b[0;36mroc_curve\u001b[0;34m(y_true, y_score, pos_label, sample_weight, drop_intermediate)\u001b[0m\n\u001b[1;32m    873\u001b[0m \u001b[38;5;28;01mdef\u001b[39;00m \u001b[38;5;21mroc_curve\u001b[39m(\n\u001b[1;32m    874\u001b[0m     y_true, y_score, \u001b[38;5;241m*\u001b[39m, pos_label\u001b[38;5;241m=\u001b[39m\u001b[38;5;28;01mNone\u001b[39;00m, sample_weight\u001b[38;5;241m=\u001b[39m\u001b[38;5;28;01mNone\u001b[39;00m, drop_intermediate\u001b[38;5;241m=\u001b[39m\u001b[38;5;28;01mTrue\u001b[39;00m\n\u001b[1;32m    875\u001b[0m ):\n\u001b[1;32m    876\u001b[0m     \u001b[38;5;124;03m\"\"\"Compute Receiver operating characteristic (ROC).\u001b[39;00m\n\u001b[1;32m    877\u001b[0m \n\u001b[1;32m    878\u001b[0m \u001b[38;5;124;03m    Note: this implementation is restricted to the binary classification task.\u001b[39;00m\n\u001b[0;32m   (...)\u001b[0m\n\u001b[1;32m    960\u001b[0m \n\u001b[1;32m    961\u001b[0m \u001b[38;5;124;03m    \"\"\"\u001b[39;00m\n\u001b[0;32m--> 962\u001b[0m     fps, tps, thresholds \u001b[38;5;241m=\u001b[39m \u001b[43m_binary_clf_curve\u001b[49m\u001b[43m(\u001b[49m\n\u001b[1;32m    963\u001b[0m \u001b[43m        \u001b[49m\u001b[43my_true\u001b[49m\u001b[43m,\u001b[49m\u001b[43m \u001b[49m\u001b[43my_score\u001b[49m\u001b[43m,\u001b[49m\u001b[43m \u001b[49m\u001b[43mpos_label\u001b[49m\u001b[38;5;241;43m=\u001b[39;49m\u001b[43mpos_label\u001b[49m\u001b[43m,\u001b[49m\u001b[43m \u001b[49m\u001b[43msample_weight\u001b[49m\u001b[38;5;241;43m=\u001b[39;49m\u001b[43msample_weight\u001b[49m\n\u001b[1;32m    964\u001b[0m \u001b[43m    \u001b[49m\u001b[43m)\u001b[49m\n\u001b[1;32m    966\u001b[0m     \u001b[38;5;66;03m# Attempt to drop thresholds corresponding to points in between and\u001b[39;00m\n\u001b[1;32m    967\u001b[0m     \u001b[38;5;66;03m# collinear with other points. These are always suboptimal and do not\u001b[39;00m\n\u001b[1;32m    968\u001b[0m     \u001b[38;5;66;03m# appear on a plotted ROC curve (and thus do not affect the AUC).\u001b[39;00m\n\u001b[0;32m   (...)\u001b[0m\n\u001b[1;32m    973\u001b[0m     \u001b[38;5;66;03m# but does not drop more complicated cases like fps = [1, 3, 7],\u001b[39;00m\n\u001b[1;32m    974\u001b[0m     \u001b[38;5;66;03m# tps = [1, 2, 4]; there is no harm in keeping too many thresholds.\u001b[39;00m\n\u001b[1;32m    975\u001b[0m     \u001b[38;5;28;01mif\u001b[39;00m drop_intermediate \u001b[38;5;129;01mand\u001b[39;00m \u001b[38;5;28mlen\u001b[39m(fps) \u001b[38;5;241m>\u001b[39m \u001b[38;5;241m2\u001b[39m:\n",
      "File \u001b[0;32m~/opt/miniconda3/envs/vivenv/lib/python3.8/site-packages/sklearn/metrics/_ranking.py:735\u001b[0m, in \u001b[0;36m_binary_clf_curve\u001b[0;34m(y_true, y_score, pos_label, sample_weight)\u001b[0m\n\u001b[1;32m    733\u001b[0m check_consistent_length(y_true, y_score, sample_weight)\n\u001b[1;32m    734\u001b[0m y_true \u001b[38;5;241m=\u001b[39m column_or_1d(y_true)\n\u001b[0;32m--> 735\u001b[0m y_score \u001b[38;5;241m=\u001b[39m \u001b[43mcolumn_or_1d\u001b[49m\u001b[43m(\u001b[49m\u001b[43my_score\u001b[49m\u001b[43m)\u001b[49m\n\u001b[1;32m    736\u001b[0m assert_all_finite(y_true)\n\u001b[1;32m    737\u001b[0m assert_all_finite(y_score)\n",
      "File \u001b[0;32m~/opt/miniconda3/envs/vivenv/lib/python3.8/site-packages/sklearn/utils/validation.py:1038\u001b[0m, in \u001b[0;36mcolumn_or_1d\u001b[0;34m(y, warn)\u001b[0m\n\u001b[1;32m   1029\u001b[0m         warnings\u001b[38;5;241m.\u001b[39mwarn(\n\u001b[1;32m   1030\u001b[0m             \u001b[38;5;124m\"\u001b[39m\u001b[38;5;124mA column-vector y was passed when a 1d array was\u001b[39m\u001b[38;5;124m\"\u001b[39m\n\u001b[1;32m   1031\u001b[0m             \u001b[38;5;124m\"\u001b[39m\u001b[38;5;124m expected. Please change the shape of y to \u001b[39m\u001b[38;5;124m\"\u001b[39m\n\u001b[0;32m   (...)\u001b[0m\n\u001b[1;32m   1034\u001b[0m             stacklevel\u001b[38;5;241m=\u001b[39m\u001b[38;5;241m2\u001b[39m,\n\u001b[1;32m   1035\u001b[0m         )\n\u001b[1;32m   1036\u001b[0m     \u001b[38;5;28;01mreturn\u001b[39;00m np\u001b[38;5;241m.\u001b[39mravel(y)\n\u001b[0;32m-> 1038\u001b[0m \u001b[38;5;28;01mraise\u001b[39;00m \u001b[38;5;167;01mValueError\u001b[39;00m(\n\u001b[1;32m   1039\u001b[0m     \u001b[38;5;124m\"\u001b[39m\u001b[38;5;124my should be a 1d array, got an array of shape \u001b[39m\u001b[38;5;132;01m{}\u001b[39;00m\u001b[38;5;124m instead.\u001b[39m\u001b[38;5;124m\"\u001b[39m\u001b[38;5;241m.\u001b[39mformat(shape)\n\u001b[1;32m   1040\u001b[0m )\n",
      "\u001b[0;31mValueError\u001b[0m: y should be a 1d array, got an array of shape (63420, 2) instead."
     ]
    }
   ],
   "source": [
    "fpr, tpr, _ = metrics.roc_curve(y_test,  y_pred)\n",
    "auc = metrics.roc_auc_score(y_test, y_pred)\n",
    "\n",
    "#create ROC curve\n",
    "plt.plot(fpr,tpr,label=\"AUC=\"+str(auc))\n",
    "plt.ylabel('True Positive Rate')\n",
    "plt.xlabel('False Positive Rate')\n",
    "plt.legend(loc=4)\n",
    "plt.show()"
   ]
  },
  {
   "cell_type": "code",
   "execution_count": 89,
   "id": "4acc9c45-f931-4269-913a-b147e6cb4a73",
   "metadata": {},
   "outputs": [],
   "source": [
    "\n",
    "y_pred = Tree_classifier.predict_proba(x_test)\n"
   ]
  },
  {
   "cell_type": "code",
   "execution_count": 77,
   "id": "0289d6f7-fbce-45a6-9919-8ff6ee298320",
   "metadata": {},
   "outputs": [
    {
     "name": "stderr",
     "output_type": "stream",
     "text": [
      "/Users/adam/opt/miniconda3/envs/vivenv/lib/python3.8/site-packages/sklearn/utils/deprecation.py:87: FutureWarning: Function plot_roc_curve is deprecated; This will be removed in v0.5.0. Please use scikitplot.metrics.plot_roc instead.\n",
      "  warnings.warn(msg, category=FutureWarning)\n"
     ]
    },
    {
     "data": {
      "image/png": "[encoded data removed]",
      "text/plain": [
       "<Figure size 432x288 with 1 Axes>"
      ]
     },
     "metadata": {
      "needs_background": "light"
     },
     "output_type": "display_data"
    }
   ],
   "source": [
    "\n",
    "skplt.metrics.plot_roc_curve(y_test, y_pred)\n",
    "plt.show()"
   ]
  },
  {
   "cell_type": "code",
   "execution_count": null,
   "id": "d02c4c42-f756-4744-afbb-12358a6c34eb",
   "metadata": {},
   "outputs": [],
   "source": []
  }
 ],
 "metadata": {
  "kernelspec": {
   "display_name": "Python 3 (ipykernel)",
   "language": "python",
   "name": "python3"
  },
  "language_info": {
   "codemirror_mode": {
    "name": "ipython",
    "version": 3
   },
   "file_extension": ".py",
   "mimetype": "text/x-python",
   "name": "python",
   "nbconvert_exporter": "python",
   "pygments_lexer": "ipython3",
   "version": "3.8.12"
  }
 },
 "nbformat": 4,
 "nbformat_minor": 5
}
