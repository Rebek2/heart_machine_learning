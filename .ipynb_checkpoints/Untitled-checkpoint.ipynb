{
 "cells": [
  {
   "cell_type": "code",
   "execution_count": 9,
   "id": "9f1cccf7-5b17-40da-abb1-3c1fa8f0d1e4",
   "metadata": {},
   "outputs": [],
   "source": [
    "from sklearn import datasets\n",
    "from sklearn.model_selection import train_test_split\n",
    "from sklearn import svm\n",
    "from sklearn import metrics\n",
    "import pandas as pd\n",
    "from sklearn.svm import LinearSVC\n",
    "from sklearn.neighbors import KNeighborsClassifier\n",
    "from sklearn.svm import SVC\n",
    "from sklearn.gaussian_process import GaussianProcessClassifier\n",
    "from sklearn.gaussian_process.kernels import RBF\n",
    "from sklearn.tree import DecisionTreeClassifier\n",
    "from sklearn.ensemble import RandomForestClassifier, AdaBoostClassifier\n",
    "from sklearn.naive_bayes import GaussianNB\n",
    "from sklearn.discriminant_analysis import QuadraticDiscriminantAnalysis\n",
    "from sklearn.metrics import classification_report, confusion_matrix\n",
    "df = pd.read_csv(\"heart_disease_health_indicators_BRFSS2015.csv\")"
   ]
  },
  {
   "cell_type": "code",
   "execution_count": 10,
   "id": "28360216-249a-4788-ad27-583994a22b97",
   "metadata": {},
   "outputs": [],
   "source": [
    "classifs = [\n",
    "    LinearSVC(),\n",
    "    KNeighborsClassifier(),\n",
    "    SVC(),\n",
    "    GaussianProcessClassifier(),\n",
    "    RBF(),\n",
    "    DecisionTreeClassifier(),\n",
    "    RandomForestClassifier(),\n",
    "    AdaBoostClassifier(),\n",
    "    GaussianNB(),\n",
    "    QuadraticDiscriminantAnalysis()]\n",
    "\n",
    "names = [\n",
    "    LinearSVC,\n",
    "    KNeighborsClassifier,\n",
    "    SVC,\n",
    "    GaussianProcessClassifier,\n",
    "    RBF,\n",
    "    DecisionTreeClassifier,\n",
    "    RandomForestClassifier,\n",
    "    AdaBoostClassifier,\n",
    "    GaussianNB,\n",
    "    QuadraticDiscriminantAnalysis]\n",
    "\n"
   ]
  },
  {
   "cell_type": "code",
   "execution_count": 11,
   "id": "42115f97-eded-482b-92f8-cdfc46653579",
   "metadata": {},
   "outputs": [],
   "source": [
    "def Classifier_Check(df,clas,names):\n",
    "    X=df.drop('HeartDiseaseorAttack',axis=1)\n",
    "    y = df['HeartDiseaseorAttack']\n",
    "    X_train,X_test,y_train,y_test = train_test_split(X,y,\n",
    "                                                shuffle = True,stratify=y,\n",
    "                                                 random_state=0)\n",
    "    List = []\n",
    "    \n",
    "    for i in range(len(clas)):\n",
    "        names[i] = clas[i]\n",
    "        names[i].fit(X_train,y_train)\n",
    "        y_pred = Forest_classifier.predict(X_test)\n",
    "        cm = confusion_matrix(y_test, y_pred)\n",
    "        List.append(cm)\n",
    "        List.append(classification_report(y_test, y_pred))\n",
    "    \n",
    "    return List"
   ]
  },
  {
   "cell_type": "code",
   "execution_count": null,
   "id": "9a9c3c97-b099-426a-95eb-46c3b1ed984f",
   "metadata": {},
   "outputs": [],
   "source": [
    "Classifier_Check(df,classifs,names)"
   ]
  },
  {
   "cell_type": "code",
   "execution_count": null,
   "id": "bd8131fb-5516-45c0-9582-8794db5f8c1f",
   "metadata": {},
   "outputs": [],
   "source": []
  }
 ],
 "metadata": {
  "kernelspec": {
   "display_name": "Python 3 (ipykernel)",
   "language": "python",
   "name": "python3"
  },
  "language_info": {
   "codemirror_mode": {
    "name": "ipython",
    "version": 3
   },
   "file_extension": ".py",
   "mimetype": "text/x-python",
   "name": "python",
   "nbconvert_exporter": "python",
   "pygments_lexer": "ipython3",
   "version": "3.8.12"
  }
 },
 "nbformat": 4,
 "nbformat_minor": 5
}
