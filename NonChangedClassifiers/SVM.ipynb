{
 "cells": [
  {
   "cell_type": "code",
   "execution_count": 1,
   "id": "9c50f810-586d-4c7d-ac70-eabc29482eb1",
   "metadata": {},
   "outputs": [],
   "source": [
    "from sklearn import datasets\n",
    "from sklearn.model_selection import train_test_split\n",
    "from sklearn.svm import SVC\n",
    "from sklearn import svm\n",
    "from sklearn import metrics\n",
    "import pandas as pd\n",
    "from sklearn.svm import LinearSVC\n",
    "\n",
    "pd.read_csv(\"../heart_disease_health_indicators_BRFSS2015.csv\")"
   ]
  },
  {
   "cell_type": "code",
   "execution_count": 2,
   "id": "11abe733-68ec-471e-b9ce-1442d184b739",
   "metadata": {},
   "outputs": [],
   "source": [
    "X=df.drop('HeartDiseaseorAttack',axis=1)\n",
    "y = df['HeartDiseaseorAttack']\n"
   ]
  },
  {
   "cell_type": "code",
   "execution_count": 3,
   "id": "72d7218f-939a-420d-8827-7ec5e061ced4",
   "metadata": {},
   "outputs": [],
   "source": [
    "X_train,X_test,y_train,y_test = train_test_split(X,y,\n",
    "        shuffle = True,stratify=y,random_state=0)#parametr dla zachowania proporcji"
   ]
  },
  {
   "cell_type": "code",
   "execution_count": 8,
   "id": "cc617e91-40cb-4fa6-a98f-3118c49c9cd5",
   "metadata": {},
   "outputs": [],
   "source": [
    "svclassivier = SVC(kernel = 'poly',C=3,class_weight = 'balanced')\n",
    "#SGD classifier"
   ]
  },
  {
   "cell_type": "code",
   "execution_count": 9,
   "id": "8a714c24-ebe2-45b5-aa8b-b2e8024a99ce",
   "metadata": {},
   "outputs": [
    {
     "data": {
      "text/plain": [
       "SVC(C=3, class_weight='balanced', kernel='poly')"
      ]
     },
     "execution_count": 9,
     "metadata": {},
     "output_type": "execute_result"
    }
   ],
   "source": [
    "svclassivier.fit(X_train,y_train)"
   ]
  },
  {
   "cell_type": "code",
   "execution_count": 10,
   "id": "f2055a51-b996-4767-9edf-fc0f4754dbe0",
   "metadata": {},
   "outputs": [
    {
     "name": "stdout",
     "output_type": "stream",
     "text": [
      "[[42145 15302]\n",
      " [ 1161  4812]]\n",
      "              precision    recall  f1-score   support\n",
      "\n",
      "         0.0       0.97      0.73      0.84     57447\n",
      "         1.0       0.24      0.81      0.37      5973\n",
      "\n",
      "    accuracy                           0.74     63420\n",
      "   macro avg       0.61      0.77      0.60     63420\n",
      "weighted avg       0.90      0.74      0.79     63420\n",
      "\n"
     ]
    }
   ],
   "source": [
    "y_pred = svclassivier.predict(X_test)\n",
    "from sklearn.metrics import classification_report, confusion_matrix\n",
    "print(confusion_matrix(y_test, y_pred))\n",
    "print(classification_report(y_test, y_pred))"
   ]
  },
  {
   "cell_type": "code",
   "execution_count": 42,
   "id": "b8a94dca-2859-423f-a377-d7e79307d016",
   "metadata": {},
   "outputs": [],
   "source": [
    "import pickle"
   ]
  },
  {
   "cell_type": "code",
   "execution_count": null,
   "id": "471709a5-717b-49e1-b463-7b111c041f23",
   "metadata": {},
   "outputs": [],
   "source": [
    "filename = 'modelPolySVC91,63Accuracy.sav'\n",
    "pickle.dump(svclassifier, open(filename, 'wb'))"
   ]
  },
  {
   "cell_type": "code",
   "execution_count": null,
   "id": "78ef8d02-1363-4568-bb3d-62c0ad974355",
   "metadata": {},
   "outputs": [],
   "source": []
  },
  {
   "cell_type": "code",
   "execution_count": 1,
   "id": "b6f98848-22e7-4c24-a536-6d2a3b2359d5",
   "metadata": {},
   "outputs": [
    {
     "ename": "SyntaxError",
     "evalue": "cannot assign to literal (2574841820.py, line 1)",
     "output_type": "error",
     "traceback": [
      "\u001b[0;36m  Input \u001b[0;32mIn [1]\u001b[0;36m\u001b[0m\n\u001b[0;31m    'cos' = 2\u001b[0m\n\u001b[0m    ^\u001b[0m\n\u001b[0;31mSyntaxError\u001b[0m\u001b[0;31m:\u001b[0m cannot assign to literal\n"
     ]
    }
   ],
   "source": []
  },
  {
   "cell_type": "code",
   "execution_count": null,
   "id": "f81c8fc4-1753-49d3-b83a-277ceffcf255",
   "metadata": {},
   "outputs": [],
   "source": []
  }
 ],
 "metadata": {
  "kernelspec": {
   "display_name": "Python 3 (ipykernel)",
   "language": "python",
   "name": "python3"
  },
  "language_info": {
   "codemirror_mode": {
    "name": "ipython",
    "version": 3
   },
   "file_extension": ".py",
   "mimetype": "text/x-python",
   "name": "python",
   "nbconvert_exporter": "python",
   "pygments_lexer": "ipython3",
   "version": "3.8.12"
  }
 },
 "nbformat": 4,
 "nbformat_minor": 5
}
