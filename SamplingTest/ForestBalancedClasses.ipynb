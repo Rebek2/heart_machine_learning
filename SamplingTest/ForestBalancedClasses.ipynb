{
 "cells": [
  {
   "cell_type": "code",
   "execution_count": 35,
   "id": "478d075d-b2ae-4a2d-a924-2bcac94537e9",
   "metadata": {},
   "outputs": [],
   "source": [
    "from sklearn import datasets\n",
    "from sklearn.model_selection import train_test_split\n",
    "from imblearn.over_sampling import SMOTE \n",
    "from sklearn.ensemble import RandomForestClassifier\n",
    "from sklearn import metrics\n",
    "import pandas as pd\n",
    "from imblearn.under_sampling import RandomUnderSampler\n",
    "from imblearn.over_sampling import ADASYN\n",
    "from sklearn.metrics import classification_report, confusion_matrix\n",
    "df = pd.read_csv(\"../heart_disease_health_indicators_BRFSS2015.csv\")"
   ]
  },
  {
   "cell_type": "code",
   "execution_count": 36,
   "id": "7a39019b-7967-4f23-981b-0fee39444371",
   "metadata": {},
   "outputs": [],
   "source": [
    "x=df.drop('HeartDiseaseorAttack',axis=1)\n",
    "y = df['HeartDiseaseorAttack'] # under"
   ]
  },
  {
   "cell_type": "code",
   "execution_count": 37,
   "id": "40e41ec5-1b56-491a-8f65-a6971cb95300",
   "metadata": {},
   "outputs": [],
   "source": [
    "xtrain,x_test,ytrain,y_test = train_test_split(x,y,random_state = 0,stratify = y)\n",
    "sampler = RandomUnderSampler(random_state=11)#sprawdzic jak dokladnie dziala\n",
    "x_train, y_train = sampler.fit_resample(xtrain, ytrain)#smote,adasyn,2:1"
   ]
  },
  {
   "cell_type": "code",
   "execution_count": 38,
   "id": "5611e593-b388-4389-9a90-5e5365e33c41",
   "metadata": {},
   "outputs": [
    {
     "data": {
      "text/plain": [
       "RandomForestClassifier(class_weight='balanced', max_depth=10, random_state=0)"
      ]
     },
     "execution_count": 38,
     "metadata": {},
     "output_type": "execute_result"
    }
   ],
   "source": [
    "Tree_classifier = RandomForestClassifier(max_depth = 10,class_weight='balanced',random_state=0,)\n",
    "Tree_classifier.fit(x_train,y_train)"
   ]
  },
  {
   "cell_type": "code",
   "execution_count": 39,
   "id": "240ad887-a680-41d1-afaa-030d0ae45dd9",
   "metadata": {},
   "outputs": [
    {
     "name": "stdout",
     "output_type": "stream",
     "text": [
      "[[41000 16447]\n",
      " [ 1007  4966]]\n",
      "              precision    recall  f1-score   support\n",
      "\n",
      "         0.0       0.98      0.71      0.82     57447\n",
      "         1.0       0.23      0.83      0.36      5973\n",
      "\n",
      "    accuracy                           0.72     63420\n",
      "   macro avg       0.60      0.77      0.59     63420\n",
      "weighted avg       0.91      0.72      0.78     63420\n",
      "\n"
     ]
    }
   ],
   "source": [
    "y_pred = Tree_classifier.predict(x_test)\n",
    "print(confusion_matrix(y_test, y_pred))\n",
    "print(classification_report(y_test, y_pred))"
   ]
  },
  {
   "cell_type": "code",
   "execution_count": 40,
   "id": "7e97ebb1-697a-4289-9d8c-8a4c4eda9e46",
   "metadata": {},
   "outputs": [
    {
     "data": {
      "text/plain": [
       "array([0.12711269, 0.08838923, 0.00378257, 0.02884429, 0.02411478,\n",
       "       0.04729918, 0.03684825, 0.00666301, 0.00520747, 0.00460011,\n",
       "       0.00308619, 0.00374269, 0.00450092, 0.17890693, 0.01591334,\n",
       "       0.05176531, 0.0713525 , 0.04288093, 0.20679685, 0.017237  ,\n",
       "       0.03095576])"
      ]
     },
     "execution_count": 40,
     "metadata": {},
     "output_type": "execute_result"
    }
   ],
   "source": [
    "Tree_classifier.feature_importances_"
   ]
  },
  {
   "cell_type": "code",
   "execution_count": 41,
   "id": "644909bb-8416-40c8-976b-9c124712f172",
   "metadata": {},
   "outputs": [],
   "source": [
    "sm = SMOTE(random_state=42)"
   ]
  },
  {
   "cell_type": "code",
   "execution_count": 42,
   "id": "a56b8120-14b8-4aa0-b3b2-251fb79ed828",
   "metadata": {},
   "outputs": [],
   "source": [
    "xtrain,x_test,ytrain,y_test = train_test_split(x,y,random_state = 0,stratify = y)\n",
    "\n",
    "x_train, y_train = sm.fit_resample(xtrain, ytrain)#smote,adasyn,2:1\n"
   ]
  },
  {
   "cell_type": "code",
   "execution_count": 43,
   "id": "d446c6e8-5768-48da-a47b-f24bc8ae2dfb",
   "metadata": {},
   "outputs": [
    {
     "name": "stdout",
     "output_type": "stream",
     "text": [
      "[[52030  5417]\n",
      " [ 3242  2731]]\n",
      "              precision    recall  f1-score   support\n",
      "\n",
      "         0.0       0.94      0.91      0.92     57447\n",
      "         1.0       0.34      0.46      0.39      5973\n",
      "\n",
      "    accuracy                           0.86     63420\n",
      "   macro avg       0.64      0.68      0.65     63420\n",
      "weighted avg       0.88      0.86      0.87     63420\n",
      "\n"
     ]
    }
   ],
   "source": [
    "Tree_classifier = RandomForestClassifier(max_depth = 10,class_weight='balanced',random_state=0,)\n",
    "Tree_classifier.fit(x_train,y_train)\n",
    "y_pred = Tree_classifier.predict(x_test)\n",
    "print(confusion_matrix(y_test, y_pred))\n",
    "print(classification_report(y_test, y_pred))"
   ]
  },
  {
   "cell_type": "code",
   "execution_count": 44,
   "id": "b6972034-0459-4bdc-a5e4-149315225398",
   "metadata": {},
   "outputs": [
    {
     "data": {
      "text/plain": [
       "array([0.17259818, 0.19644369, 0.00031859, 0.00221222, 0.07459462,\n",
       "       0.04007732, 0.01303156, 0.02564023, 0.01814025, 0.01125568,\n",
       "       0.00444089, 0.00110906, 0.00360808, 0.13724836, 0.00223092,\n",
       "       0.00944058, 0.08099991, 0.08563865, 0.09931103, 0.01289958,\n",
       "       0.00876063])"
      ]
     },
     "execution_count": 44,
     "metadata": {},
     "output_type": "execute_result"
    }
   ],
   "source": [
    "Tree_classifier.feature_importances_"
   ]
  },
  {
   "cell_type": "code",
   "execution_count": 45,
   "id": "e826a13e-07e6-4a6b-add2-b4414b0ec7f5",
   "metadata": {},
   "outputs": [],
   "source": [
    "adasyn = ADASYN()\n"
   ]
  },
  {
   "cell_type": "code",
   "execution_count": 46,
   "id": "6ac49fd2-a2a5-46e7-8125-490cf9645e0d",
   "metadata": {},
   "outputs": [],
   "source": [
    "xtrain,x_test,ytrain,y_test = train_test_split(x,y,random_state = 0,stratify = y)\n",
    "\n",
    "x_train, y_train = adasyn.fit_resample(xtrain, ytrain)#smote,adasyn,2:1\n"
   ]
  },
  {
   "cell_type": "code",
   "execution_count": 47,
   "id": "1e55e73f-0fa0-4329-a20f-fc23f7e36560",
   "metadata": {},
   "outputs": [
    {
     "name": "stdout",
     "output_type": "stream",
     "text": [
      "[[51949  5498]\n",
      " [ 3261  2712]]\n",
      "              precision    recall  f1-score   support\n",
      "\n",
      "         0.0       0.94      0.90      0.92     57447\n",
      "         1.0       0.33      0.45      0.38      5973\n",
      "\n",
      "    accuracy                           0.86     63420\n",
      "   macro avg       0.64      0.68      0.65     63420\n",
      "weighted avg       0.88      0.86      0.87     63420\n",
      "\n"
     ]
    }
   ],
   "source": [
    "Tree_classifier = RandomForestClassifier(max_depth = 10,class_weight='balanced',random_state=0,)\n",
    "Tree_classifier.fit(x_train,y_train)\n",
    "y_pred = Tree_classifier.predict(x_test)\n",
    "from sklearn.metrics import classification_report, confusion_matrix\n",
    "print(confusion_matrix(y_test, y_pred))\n",
    "print(classification_report(y_test, y_pred))"
   ]
  },
  {
   "cell_type": "code",
   "execution_count": 48,
   "id": "847723d1-8476-40ca-bd9e-7f4e668d8c3e",
   "metadata": {},
   "outputs": [
    {
     "data": {
      "text/plain": [
       "array([0.18370669, 0.20321367, 0.00072396, 0.0023526 , 0.08467377,\n",
       "       0.03976028, 0.01145452, 0.02987717, 0.01681046, 0.01256404,\n",
       "       0.00422678, 0.00134832, 0.00337747, 0.11950292, 0.00177173,\n",
       "       0.00485737, 0.07058379, 0.08489735, 0.09822638, 0.01403158,\n",
       "       0.01203912])"
      ]
     },
     "execution_count": 48,
     "metadata": {},
     "output_type": "execute_result"
    }
   ],
   "source": [
    "Tree_classifier.feature_importances_"
   ]
  },
  {
   "cell_type": "code",
   "execution_count": null,
   "id": "9ba81bf7-239d-48ca-9779-bbd88a9c513f",
   "metadata": {},
   "outputs": [],
   "source": []
  }
 ],
 "metadata": {
  "kernelspec": {
   "display_name": "Python 3 (ipykernel)",
   "language": "python",
   "name": "python3"
  },
  "language_info": {
   "codemirror_mode": {
    "name": "ipython",
    "version": 3
   },
   "file_extension": ".py",
   "mimetype": "text/x-python",
   "name": "python",
   "nbconvert_exporter": "python",
   "pygments_lexer": "ipython3",
   "version": "3.8.12"
  }
 },
 "nbformat": 4,
 "nbformat_minor": 5
}
