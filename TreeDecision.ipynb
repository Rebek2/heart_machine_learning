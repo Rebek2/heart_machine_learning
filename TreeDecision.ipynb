{
 "cells": [
  {
   "cell_type": "code",
   "execution_count": 1,
   "id": "c3a2cb4e-93e7-4f97-a4f8-217771477132",
   "metadata": {},
   "outputs": [],
   "source": [
    "from sklearn import datasets\n",
    "from sklearn.model_selection import train_test_split\n",
    "from sklearn.svm import SVC\n",
    "from sklearn.tree import DecisionTreeClassifier\n",
    "from sklearn import metrics\n",
    "import pandas as pd\n",
    "from sklearn.svm import LinearSVC\n",
    "\n",
    "df = pd.read_csv(\"heart_disease_health_indicators_BRFSS2015.csv\")"
   ]
  },
  {
   "cell_type": "code",
   "execution_count": 2,
   "id": "06409632-ad26-4392-9f26-c9706a96426a",
   "metadata": {},
   "outputs": [],
   "source": [
    "X=df.drop('HeartDiseaseorAttack',axis=1)\n",
    "y = df['HeartDiseaseorAttack']\n"
   ]
  },
  {
   "cell_type": "code",
   "execution_count": 3,
   "id": "e8e2e979-e07d-48c4-a90a-fbbf0a142419",
   "metadata": {},
   "outputs": [],
   "source": [
    "X_train,X_test,y_train,y_test = train_test_split(X,y,\n",
    "                                                    shuffle = True,stratify=y,random_state=0)#parametr dla zachowania proporcji"
   ]
  },
  {
   "cell_type": "code",
   "execution_count": 37,
   "id": "93c2e6e0-4097-4303-bbc0-ce210217acdc",
   "metadata": {},
   "outputs": [],
   "source": [
    "Tree_classifier = DecisionTreeClassifier()"
   ]
  },
  {
   "cell_type": "code",
   "execution_count": 38,
   "id": "0deaf9be-8c2d-4392-b39e-1b26b8d6a395",
   "metadata": {},
   "outputs": [
    {
     "data": {
      "text/plain": [
       "DecisionTreeClassifier()"
      ]
     },
     "execution_count": 38,
     "metadata": {},
     "output_type": "execute_result"
    }
   ],
   "source": [
    "Tree_classifier.fit(X,y)"
   ]
  },
  {
   "cell_type": "code",
   "execution_count": 39,
   "id": "8e8b5b25-eac3-4ebe-915a-967c22cb9c39",
   "metadata": {},
   "outputs": [
    {
     "name": "stdout",
     "output_type": "stream",
     "text": [
      "[[57438     9]\n",
      " [  285  5688]]\n",
      "              precision    recall  f1-score   support\n",
      "\n",
      "         0.0       1.00      1.00      1.00     57447\n",
      "         1.0       1.00      0.95      0.97      5973\n",
      "\n",
      "    accuracy                           1.00     63420\n",
      "   macro avg       1.00      0.98      0.99     63420\n",
      "weighted avg       1.00      1.00      1.00     63420\n",
      "\n"
     ]
    }
   ],
   "source": [
    "y_pred = Tree_classifier.predict(X_test)\n",
    "from sklearn.metrics import classification_report, confusion_matrix\n",
    "print(confusion_matrix(y_test, y_pred))\n",
    "print(classification_report(y_test, y_pred))"
   ]
  },
  {
   "cell_type": "code",
   "execution_count": 7,
   "id": "e71af07b-6971-4685-8414-74ce6a4102b9",
   "metadata": {},
   "outputs": [],
   "source": [
    "import pickle\n",
    "filename = 'modelTree100%accuracy.sav'\n",
    "pickle.dump(Tree_classifier, open(filename, 'wb'))"
   ]
  },
  {
   "cell_type": "code",
   "execution_count": 7,
   "id": "8fc511c9-5152-4a80-965f-00bcf1c3ac7c",
   "metadata": {},
   "outputs": [
    {
     "name": "stdout",
     "output_type": "stream",
     "text": [
      "Accuracy: 0.9106117943866289\n"
     ]
    }
   ],
   "source": [
    "print(\"Accuracy:\",metrics.accuracy_score(y_test, y_pred))"
   ]
  },
  {
   "cell_type": "code",
   "execution_count": 8,
   "id": "d143c18f-2eca-4309-af96-3e0a26755221",
   "metadata": {},
   "outputs": [],
   "source": [
    "\n",
    "names = ['HighBP', 'HighChol', 'CholCheck', 'BMI', 'Smoker', 'Stroke',\n",
    "       'Diabetes', 'PhysActivity', 'Fruits', 'Veggies', 'HvyAlcoholConsump',\n",
    "       'AnyHealthcare', 'NoDocbcCost', 'GenHlth', 'MentHlth', 'PhysHlth',\n",
    "       'DiffWalk', 'Sex', 'Age', 'Education', 'Income']"
   ]
  },
  {
   "cell_type": "code",
   "execution_count": 9,
   "id": "fc23d8eb-fcd7-48d7-aabf-bbc4b6f9f887",
   "metadata": {},
   "outputs": [],
   "source": [
    "from sklearn import tree"
   ]
  },
  {
   "cell_type": "code",
   "execution_count": 10,
   "id": "9c1ff132-4689-4c9e-bb97-77888de2bd94",
   "metadata": {},
   "outputs": [],
   "source": [
    "import matplotlib.pyplot as plt"
   ]
  },
  {
   "cell_type": "code",
   "execution_count": null,
   "id": "8d3be6da-26a7-462e-b84d-ec33b95f0a70",
   "metadata": {},
   "outputs": [],
   "source": [
    "fig, axes = plt.subplots(nrows = 1,ncols = 1,figsize = (4,4), dpi=300)\n",
    "tree.plot_tree(Tree_classifier,\n",
    "               feature_names = names, \n",
    "               class_names=['Zdrowy','Chory'],\n",
    "               filled = True)\n",
    "fig.savefig('Drzewko.png')"
   ]
  },
  {
   "cell_type": "code",
   "execution_count": null,
   "id": "297f95fb-92d0-4435-bfc9-bc3453a87200",
   "metadata": {},
   "outputs": [],
   "source": []
  }
 ],
 "metadata": {
  "kernelspec": {
   "display_name": "Python 3 (ipykernel)",
   "language": "python",
   "name": "python3"
  },
  "language_info": {
   "codemirror_mode": {
    "name": "ipython",
    "version": 3
   },
   "file_extension": ".py",
   "mimetype": "text/x-python",
   "name": "python",
   "nbconvert_exporter": "python",
   "pygments_lexer": "ipython3",
   "version": "3.8.12"
  }
 },
 "nbformat": 4,
 "nbformat_minor": 5
}
