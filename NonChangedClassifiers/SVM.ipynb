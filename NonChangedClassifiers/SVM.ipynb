{
 "cells": [
  {
   "cell_type": "code",
   "execution_count": 9,
   "id": "9c50f810-586d-4c7d-ac70-eabc29482eb1",
   "metadata": {},
   "outputs": [],
   "source": [
    "from sklearn import datasets\n",
    "from sklearn.model_selection import train_test_split\n",
    "from sklearn.svm import SVC\n",
    "from sklearn import svm\n",
    "from sklearn import metrics\n",
    "import pandas as pd\n",
    "from sklearn.svm import LinearSVC\n",
    "\n",
    "df = pd.read_csv(\"../heart_disease_health_indicators_BRFSS2015.csv\")"
   ]
  },
  {
   "cell_type": "code",
   "execution_count": 10,
   "id": "11abe733-68ec-471e-b9ce-1442d184b739",
   "metadata": {},
   "outputs": [],
   "source": [
    "X=df.drop('HeartDiseaseorAttack',axis=1)\n",
    "y = df['HeartDiseaseorAttack']\n"
   ]
  },
  {
   "cell_type": "code",
   "execution_count": 11,
   "id": "72d7218f-939a-420d-8827-7ec5e061ced4",
   "metadata": {},
   "outputs": [],
   "source": [
    "X_train,X_test,y_train,y_test = train_test_split(X,y,\n",
    "        shuffle = True,stratify=y,random_state=0,train_size = 0.2,test_size = 0.2)#parametr dla zachowania proporcji"
   ]
  },
  {
   "cell_type": "code",
   "execution_count": 12,
   "id": "cc617e91-40cb-4fa6-a98f-3118c49c9cd5",
   "metadata": {},
   "outputs": [],
   "source": [
    "svclassivier = SVC(kernel = 'poly',C=0.4,class_weight = 'balanced')\n",
    "#SGD classifier"
   ]
  },
  {
   "cell_type": "code",
   "execution_count": 13,
   "id": "8a714c24-ebe2-45b5-aa8b-b2e8024a99ce",
   "metadata": {},
   "outputs": [
    {
     "data": {
      "text/plain": [
       "SVC(C=0.4, class_weight='balanced', kernel='poly')"
      ]
     },
     "execution_count": 13,
     "metadata": {},
     "output_type": "execute_result"
    }
   ],
   "source": [
    "svclassivier.fit(X_train,y_train)"
   ]
  },
  {
   "cell_type": "code",
   "execution_count": 14,
   "id": "f2055a51-b996-4767-9edf-fc0f4754dbe0",
   "metadata": {},
   "outputs": [
    {
     "name": "stdout",
     "output_type": "stream",
     "text": [
      "[[33707 12250]\n",
      " [  942  3837]]\n",
      "              precision    recall  f1-score   support\n",
      "\n",
      "         0.0       0.97      0.73      0.84     45957\n",
      "         1.0       0.24      0.80      0.37      4779\n",
      "\n",
      "    accuracy                           0.74     50736\n",
      "   macro avg       0.61      0.77      0.60     50736\n",
      "weighted avg       0.90      0.74      0.79     50736\n",
      "\n"
     ]
    }
   ],
   "source": [
    "y_pred = svclassivier.predict(X_test)\n",
    "from sklearn.metrics import classification_report, confusion_matrix\n",
    "print(confusion_matrix(y_test, y_pred))\n",
    "print(classification_report(y_test, y_pred))"
   ]
  },
  {
   "cell_type": "code",
   "execution_count": null,
   "id": "65da966e-5d5e-4997-88ee-d5a394746bba",
   "metadata": {},
   "outputs": [],
   "source": []
  },
  {
   "cell_type": "code",
   "execution_count": 15,
   "id": "b8a94dca-2859-423f-a377-d7e79307d016",
   "metadata": {},
   "outputs": [],
   "source": [
    "import pickle"
   ]
  },
  {
   "cell_type": "code",
   "execution_count": 17,
   "id": "471709a5-717b-49e1-b463-7b111c041f23",
   "metadata": {},
   "outputs": [],
   "source": [
    "filename = '../Models/SVCmodelpoly.sav'\n",
    "pickle.dump(svclassivier, open(filename, 'wb'))"
   ]
  },
  {
   "cell_type": "code",
   "execution_count": 18,
   "id": "f81c8fc4-1753-49d3-b83a-277ceffcf255",
   "metadata": {},
   "outputs": [
    {
     "name": "stdout",
     "output_type": "stream",
     "text": [
      "[[33707 12250]\n",
      " [  942  3837]]\n",
      "              precision    recall  f1-score   support\n",
      "\n",
      "         0.0       0.97      0.73      0.84     45957\n",
      "         1.0       0.24      0.80      0.37      4779\n",
      "\n",
      "    accuracy                           0.74     50736\n",
      "   macro avg       0.61      0.77      0.60     50736\n",
      "weighted avg       0.90      0.74      0.79     50736\n",
      "\n"
     ]
    }
   ],
   "source": [
    "loaded_model = pickle.load(open(filename, 'rb'))\n",
    "y_pred = loaded_model.predict(X_test)\n",
    "from sklearn.metrics import classification_report, confusion_matrix\n",
    "print(confusion_matrix(y_test, y_pred))\n",
    "print(classification_report(y_test, y_pred))"
   ]
  },
  {
   "cell_type": "code",
   "execution_count": 21,
   "id": "a2d1024d-f75a-46b1-9e2a-9fd799809f76",
   "metadata": {},
   "outputs": [
    {
     "data": {
      "text/plain": [
       "array(['HighBP', 'HighChol', 'CholCheck', 'BMI', 'Smoker', 'Stroke',\n",
       "       'Diabetes', 'PhysActivity', 'Fruits', 'Veggies',\n",
       "       'HvyAlcoholConsump', 'AnyHealthcare', 'NoDocbcCost', 'GenHlth',\n",
       "       'MentHlth', 'PhysHlth', 'DiffWalk', 'Sex', 'Age', 'Education',\n",
       "       'Income'], dtype=object)"
      ]
     },
     "execution_count": 21,
     "metadata": {},
     "output_type": "execute_result"
    }
   ],
   "source": [
    "loaded_model.feature_names_in_"
   ]
  },
  {
   "cell_type": "code",
   "execution_count": 22,
   "id": "dd70450d-2c8d-4799-91c5-7c01ee22c337",
   "metadata": {},
   "outputs": [
    {
     "data": {
      "text/plain": [
       "0         40.0\n",
       "1         25.0\n",
       "2         28.0\n",
       "3         27.0\n",
       "4         24.0\n",
       "          ... \n",
       "253675    45.0\n",
       "253676    18.0\n",
       "253677    28.0\n",
       "253678    23.0\n",
       "253679    25.0\n",
       "Name: BMI, Length: 253680, dtype: float64"
      ]
     },
     "execution_count": 22,
     "metadata": {},
     "output_type": "execute_result"
    }
   ],
   "source": [
    "df['BMI']"
   ]
  },
  {
   "cell_type": "code",
   "execution_count": null,
   "id": "b095b425-5944-4656-8fcc-d9e8435d99a2",
   "metadata": {},
   "outputs": [],
   "source": []
  }
 ],
 "metadata": {
  "kernelspec": {
   "display_name": "Python 3 (ipykernel)",
   "language": "python",
   "name": "python3"
  },
  "language_info": {
   "codemirror_mode": {
    "name": "ipython",
    "version": 3
   },
   "file_extension": ".py",
   "mimetype": "text/x-python",
   "name": "python",
   "nbconvert_exporter": "python",
   "pygments_lexer": "ipython3",
   "version": "3.8.12"
  }
 },
 "nbformat": 4,
 "nbformat_minor": 5
}
